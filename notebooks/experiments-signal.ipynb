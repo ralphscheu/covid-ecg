{
 "cells": [
  {
   "cell_type": "code",
   "execution_count": 1,
   "metadata": {},
   "outputs": [],
   "source": [
    "import numpy as np\n",
    "import pandas as pd\n",
    "import covidecg.data.utils\n",
    "import sklearn.pipeline\n",
    "import sklearn.preprocessing\n",
    "from sklearn.model_selection import train_test_split\n",
    "import covidecg.models.mlp_models\n",
    "import skorch\n",
    "import torch\n",
    "import torch.nn as nn\n",
    "from sklearn.utils.class_weight import compute_class_weight\n",
    "from skorch.callbacks import EpochScoring, EarlyStopping\n",
    "import sklearn.svm\n",
    "import sklearn.metrics\n",
    "from sklearn.preprocessing import FunctionTransformer\n",
    "\n",
    "\n",
    "X, y = covidecg.data.utils.load_runs('../data/interim/ecg_runs.csv', '../data/interim/ecg_runs')\n",
    "\n",
    "# pre-process targets\n",
    "label_encoder = sklearn.preprocessing.LabelEncoder()\n",
    "y = label_encoder.fit_transform(y).astype(np.int64)\n",
    "\n",
    "X_train, X_test, y_train, y_test = train_test_split(X, y, test_size=0.2, random_state=42, shuffle=True, stratify=y)\n",
    "\n",
    "# compute class weights for CrossEntropyLoss to mitigate imbalanced classes\n",
    "class_weights = compute_class_weight('balanced', classes=np.unique(y_train), y=y_train)\n",
    "class_weights = torch.tensor(class_weights, dtype=torch.float)"
   ]
  },
  {
   "cell_type": "code",
   "execution_count": 35,
   "metadata": {},
   "outputs": [
    {
     "name": "stdout",
     "output_type": "stream",
     "text": [
      "Fitting SVM (linear kernel)\n",
      "Balanced accuracy: 0.5044694908666926 \n",
      "\n",
      "Confusion matrix:\n",
      "[[130  36]\n",
      " [ 48  14]]\n",
      "-----------------------------------------\n",
      "Fitting SVM (polyn. kernel)\n",
      "Balanced accuracy: 0.5 \n",
      "\n",
      "Confusion matrix:\n",
      "[[166   0]\n",
      " [ 62   0]]\n",
      "-----------------------------------------\n"
     ]
    }
   ],
   "source": [
    "fitted_models = {}\n",
    "\n",
    "# models to compare\n",
    "pipe_svm_linear = sklearn.pipeline.Pipeline([\n",
    "    ('flatten_leads', FunctionTransformer(covidecg.data.utils.flatten_leads)),\n",
    "    ('SVM (linear kernel)', sklearn.svm.SVC(kernel='linear')),\n",
    "])\n",
    "pipe_svm_poly = sklearn.pipeline.Pipeline([\n",
    "    ('flatten_leads', FunctionTransformer(covidecg.data.utils.flatten_leads)),\n",
    "    ('SVM (polyn. kernel)', sklearn.svm.SVC(kernel='poly')),\n",
    "])\n",
    "pipe_svm_linear_lead_ii = sklearn.pipeline.Pipeline([\n",
    "    ('select_lead_ii', covidecg.data.utils.EcgLeadSelector('MDC_ECG_LEAD_II'))\n",
    "    ('SVM (linear kernel)', sklearn.svm.SVC(kernel='linear')),\n",
    "])\n",
    "\n",
    "experiments_sklearn = [\n",
    "    ('raw_signal__all_leads__svm_linear', pipe_svm_linear),\n",
    "    ('raw_signal__all_leads__svm_polyn', pipe_svm_poly),\n",
    "    ('raw_signal__lead_ii__svm_linear', pipe_svm_linear_lead_ii),\n",
    "]\n",
    "experiments_sklearn.append(('raw_signal__lead_ii__svm_polyn', \n",
    "    sklearn.pipeline.make_pipeline(\n",
    "        covidecg.data.utils.EcgLeadSelector('MDC_ECG_LEAD_II'), \n",
    "        sklearn.svm.SVC(kernel='poly'))))\n",
    "\n",
    "for _exp_name, _pipe in experiments_sklearn:\n",
    "    # fit model\n",
    "    print(f\"Fitting {_exp_name}\")\n",
    "    _pipe.fit(X_train, y_train)\n",
    "    fitted_models[_exp_name] = _pipe\n",
    "    # evaluate model\n",
    "    y_pred = _pipe.predict(X_test)\n",
    "    print(\"Balanced accuracy:\", sklearn.metrics.balanced_accuracy_score(y_test, y_pred))\n",
    "    sklearn.metrics.ConfusionMatrixDisplay.from_predictions(y_test, y_pred)\n",
    "    print(\"-----------------------------------------\")"
   ]
  },
  {
   "cell_type": "code",
   "execution_count": 6,
   "metadata": {},
   "outputs": [
    {
     "name": "stdout",
     "output_type": "stream",
     "text": [
      "Fitting raw_signal__all_leads__mlp\n",
      "  epoch    roc_auc    train_loss    valid_acc    valid_loss      dur\n",
      "-------  ---------  ------------  -----------  ------------  -------\n",
      "      1     \u001b[36m0.4793\u001b[0m        \u001b[32m0.7270\u001b[0m       \u001b[35m0.4560\u001b[0m        \u001b[31m0.7316\u001b[0m  15.0200\n",
      "Fitting raw_signal__lead_ii__mlp\n",
      "Re-initializing module because the following parameters were re-set: hidden_size, input_size.\n",
      "Re-initializing criterion because the following parameters were re-set: weight.\n",
      "Re-initializing optimizer.\n"
     ]
    }
   ],
   "source": [
    "# build PyTorch model in skorch wrapper\n",
    "clf = skorch.NeuralNetClassifier(\n",
    "    module=covidecg.models.mlp_models.MLP,\n",
    "    # topology config\n",
    "    module__input_size=X_train[0].size,  # number of features in flattened sample\n",
    "    module__hidden_size=1000,\n",
    "    # loss config\n",
    "    criterion=nn.CrossEntropyLoss,\n",
    "    criterion__weight=class_weights,\n",
    "    # hyperparams\n",
    "    batch_size=32,\n",
    "    lr=1e-4,\n",
    "    optimizer__momentum=0.9,\n",
    "    max_epochs=20,\n",
    "    iterator_train__shuffle=True,  # Shuffle training data on each epoch\n",
    "    callbacks=[\n",
    "        # additional scores to observe\n",
    "        EpochScoring(scoring='roc_auc', lower_is_better=False),\n",
    "        # Early Stopping based on validation loss\n",
    "        EarlyStopping(patience=3)\n",
    "        ]\n",
    ")\n",
    "\n",
    "experiments_torch = []\n",
    "fitted_models_torch = {}\n",
    "\n",
    "experiments_torch.append(('raw_signal__all_leads__mlp',\n",
    "    sklearn.pipeline.make_pipeline(\n",
    "        FunctionTransformer(covidecg.data.utils.flatten_leads),\n",
    "        clf)))\n",
    "\n",
    "experiments_torch.append(('raw_signal__lead_ii__mlp',\n",
    "    sklearn.pipeline.make_pipeline(\n",
    "        FunctionTransformer(covidecg.data.utils.flatten_leads),\n",
    "        clf)))\n",
    "\n",
    "# train the model\n",
    "for _exp_name, _pipe in experiments_torch:\n",
    "    print(f\"Fitting {_exp_name}\")\n",
    "    _pipe.fit(X=X_train, y=y_train)\n",
    "    fitted_models_torch[_exp_name] = _pipe"
   ]
  },
  {
   "cell_type": "code",
   "execution_count": null,
   "metadata": {},
   "outputs": [],
   "source": [
    "# clf = skorch.NeuralNetClassifier(\n",
    "#     module=covidecg.models.mlp_models.MLP,\n",
    "#     # topology config\n",
    "#     module__input_size=X_train[0].size,  # number of features in flattened sample\n",
    "#     module__hidden_size=1000,\n",
    "#     # training config\n",
    "#     criterion=nn.CrossEntropyLoss,\n",
    "#     criterion__weight=class_weights,\n",
    "#     optimizer=torch.optim.Adam,\n",
    "#     batch_size=64,\n",
    "#     max_epochs=20,\n",
    "#     train_split=0.2,  # 20% for validation\n",
    "#     iterator_train__shuffle=True,  # Shuffle training data on each epoch\n",
    "#     callbacks=[\n",
    "#         # additional scores to observe\n",
    "#         EpochScoring(scoring='roc_auc', lower_is_better=False),\n",
    "#         # Early Stopping based on validation loss\n",
    "#         EarlyStopping(patience=3)\n",
    "#         ]\n",
    "# )"
   ]
  },
  {
   "cell_type": "code",
   "execution_count": 32,
   "metadata": {},
   "outputs": [
    {
     "data": {
      "image/png": "[encoded data removed]",
      "text/plain": [
       "<Figure size 432x288 with 1 Axes>"
      ]
     },
     "metadata": {
      "needs_background": "light"
     },
     "output_type": "display_data"
    }
   ],
   "source": [
    "import matplotlib.pyplot as plt\n",
    "plt.plot(clf.history[:, 'train_loss'], label='train_loss')\n",
    "plt.plot(clf.history[:, 'valid_loss'], label='valid_loss')\n",
    "plt.legend()\n",
    "plt.show()"
   ]
  },
  {
   "cell_type": "code",
   "execution_count": 33,
   "metadata": {},
   "outputs": [
    {
     "name": "stderr",
     "output_type": "stream",
     "text": [
      "/home/scheralph/source/covid-ecg/.venv/lib/python3.10/site-packages/sklearn/utils/deprecation.py:87: FutureWarning: Function plot_confusion_matrix is deprecated; Function `plot_confusion_matrix` is deprecated in 1.0 and will be removed in 1.2. Use one of the class methods: ConfusionMatrixDisplay.from_predictions or ConfusionMatrixDisplay.from_estimator.\n",
      "  warnings.warn(msg, category=FutureWarning)\n"
     ]
    },
    {
     "data": {
      "text/plain": [
       "<sklearn.metrics._plot.confusion_matrix.ConfusionMatrixDisplay at 0x7ff646e19270>"
      ]
     },
     "execution_count": 33,
     "metadata": {},
     "output_type": "execute_result"
    },
    {
     "data": {
      "image/png": "[encoded data removed]",
      "text/plain": [
       "<Figure size 432x288 with 2 Axes>"
      ]
     },
     "metadata": {
      "needs_background": "light"
     },
     "output_type": "display_data"
    }
   ],
   "source": [
    "sklearn.metrics.plot_confusion_matrix(pipe, X_test, y_test)"
   ]
  },
  {
   "cell_type": "code",
   "execution_count": null,
   "metadata": {},
   "outputs": [],
   "source": [
    "# save model to disk\n",
    "clf.save_params(f_params='model.pkl', f_optimizer='optim.pkl', f_history='history.json')"
   ]
  },
  {
   "cell_type": "code",
   "execution_count": null,
   "metadata": {},
   "outputs": [],
   "source": []
  },
  {
   "cell_type": "code",
   "execution_count": null,
   "metadata": {},
   "outputs": [],
   "source": []
  }
 ],
 "metadata": {
  "interpreter": {
   "hash": "9b94c5e5e1df461179c9d83ef832f4aa86b164f153b3b7ed6932a28eaf66361b"
  },
  "kernelspec": {
   "display_name": "Python 3.10.4 ('.venv': venv)",
   "language": "python",
   "name": "python3"
  },
  "language_info": {
   "codemirror_mode": {
    "name": "ipython",
    "version": 3
   },
   "file_extension": ".py",
   "mimetype": "text/x-python",
   "name": "python",
   "nbconvert_exporter": "python",
   "pygments_lexer": "ipython3",
   "version": "3.10.4"
  },
  "orig_nbformat": 4
 },
 "nbformat": 4,
 "nbformat_minor": 2
}
