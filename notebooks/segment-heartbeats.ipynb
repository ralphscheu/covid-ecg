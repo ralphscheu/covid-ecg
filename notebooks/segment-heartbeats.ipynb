{
 "cells": [
  {
   "cell_type": "code",
   "execution_count": null,
   "metadata": {},
   "outputs": [],
   "source": [
    "import pandas as pd\n",
    "import matplotlib.pyplot as plt\n",
    "import neurokit2 as nk\n",
    "from pathlib import Path\n",
    "import os\n",
    "from tqdm import tqdm\n",
    "import warnings\n",
    "warnings.filterwarnings('ignore')\n",
    "from dotenv import find_dotenv, load_dotenv\n",
    "load_dotenv(find_dotenv())\n",
    "import numpy as np"
   ]
  },
  {
   "cell_type": "code",
   "execution_count": 32,
   "metadata": {},
   "outputs": [],
   "source": [
    "input_dir = '../data/interim/ecg_runs_ctrl'\n",
    "output_dir = '../data/interim/ecg_segments_postcovid'\n",
    "\n",
    "try:\n",
    "    os.mkdir(output_dir)\n",
    "except FileExistsError:\n",
    "    pass\n",
    "\n",
    "# with open(filepath, 'r') as f:\n",
    "#     lead_names = f.readlines()[0:12]\n",
    "files = list( Path(input_dir).glob('*.txt') )\n",
    "for input_file in files:\n",
    "\n",
    "    print(input_file)\n",
    "\n",
    "    a = np.loadtxt(input_file, skiprows=12)\n",
    "    ecg_signal = a[1,:]  # for now we only use Lead II as it gives the best picture by itself\n",
    "\n",
    "    try:\n",
    "        signals, info = nk.ecg_process(ecg_signal, sampling_rate=500, method='neurokit2')\n",
    "        segments = pd.concat(list( nk.ecg_segment(signals['ECG_Clean'], rpeaks=info['ECG_R_Peaks'], sampling_rate=500).values() ))\n",
    "        print(f\"Found {len(segments['Label'].unique())} segments; Average segment length = {segments.groupby(['Label'])['Signal'].count().mean()}\")\n",
    "        # saveFilePath = os.path.join(output_dir, input_file.name)\n",
    "        # pd.pivot_table(data=segments, index=segments.index, columns='Label', values='Signal').to_csv(saveFilePath, sep=' ', index=False, header=False)\n",
    "    except:\n",
    "        # print(f'Skipped {input_file}')\n",
    "        continue"
   ]
  }
 ],
 "metadata": {
  "interpreter": {
   "hash": "9b94c5e5e1df461179c9d83ef832f4aa86b164f153b3b7ed6932a28eaf66361b"
  },
  "kernelspec": {
   "display_name": "Python 3.10.4 ('.venv': venv)",
   "language": "python",
   "name": "python3"
  },
  "language_info": {
   "codemirror_mode": {
    "name": "ipython",
    "version": 3
   },
   "file_extension": ".py",
   "mimetype": "text/x-python",
   "name": "python",
   "nbconvert_exporter": "python",
   "pygments_lexer": "ipython3",
   "version": "3.10.4"
  },
  "orig_nbformat": 4
 },
 "nbformat": 4,
 "nbformat_minor": 2
}
