{
 "cells": [
  {
   "cell_type": "code",
   "execution_count": 1,
   "metadata": {},
   "outputs": [
    {
     "name": "stdout",
     "output_type": "stream",
     "text": [
      "(856, 12, 5000)\n"
     ]
    }
   ],
   "source": [
    "import numpy as np\n",
    "import pandas as pd\n",
    "import covidecg.data.utils as data_utils\n",
    "import covidecg.features.utils as features_utils\n",
    "import sklearn.pipeline\n",
    "import sklearn.preprocessing\n",
    "from sklearn.model_selection import train_test_split\n",
    "import covidecg.models.mlp_models\n",
    "import skorch\n",
    "import torch\n",
    "import torch.nn as nn\n",
    "from sklearn.utils.class_weight import compute_class_weight\n",
    "from skorch.callbacks import EpochScoring, EarlyStopping\n",
    "import sklearn.svm\n",
    "import sklearn.metrics\n",
    "\n",
    "\n",
    "X, y = data_utils.load_stress_ecg_runs('../data/interim/ecg_runs.csv', '../data/interim/ecg_runs')\n",
    "print(X.shape)\n",
    "\n",
    "# pre-process targets\n",
    "label_encoder = sklearn.preprocessing.LabelEncoder()\n",
    "y = label_encoder.fit_transform(y).astype(np.int64)\n",
    "\n",
    "X_train, X_test, y_train, y_test = train_test_split(X, y, test_size=0.2, random_state=42, shuffle=True, stratify=y)\n",
    "\n",
    "# compute class weights for CrossEntropyLoss to mitigate imbalanced classes\n",
    "class_weights = compute_class_weight('balanced', classes=np.unique(y_train), y=y_train)\n",
    "class_weights = torch.tensor(class_weights, dtype=torch.float)"
   ]
  },
  {
   "cell_type": "code",
   "execution_count": 6,
   "metadata": {},
   "outputs": [
    {
     "data": {
      "text/html": [
       "<style>#sk-container-id-3 {color: black;background-color: white;}#sk-container-id-3 pre{padding: 0;}#sk-container-id-3 div.sk-toggleable {background-color: white;}#sk-container-id-3 label.sk-toggleable__label {cursor: pointer;display: block;width: 100%;margin-bottom: 0;padding: 0.3em;box-sizing: border-box;text-align: center;}#sk-container-id-3 label.sk-toggleable__label-arrow:before {content: \"▸\";float: left;margin-right: 0.25em;color: #696969;}#sk-container-id-3 label.sk-toggleable__label-arrow:hover:before {color: black;}#sk-container-id-3 div.sk-estimator:hover label.sk-toggleable__label-arrow:before {color: black;}#sk-container-id-3 div.sk-toggleable__content {max-height: 0;max-width: 0;overflow: hidden;text-align: left;background-color: #f0f8ff;}#sk-container-id-3 div.sk-toggleable__content pre {margin: 0.2em;color: black;border-radius: 0.25em;background-color: #f0f8ff;}#sk-container-id-3 input.sk-toggleable__control:checked~div.sk-toggleable__content {max-height: 200px;max-width: 100%;overflow: auto;}#sk-container-id-3 input.sk-toggleable__control:checked~label.sk-toggleable__label-arrow:before {content: \"▾\";}#sk-container-id-3 div.sk-estimator input.sk-toggleable__control:checked~label.sk-toggleable__label {background-color: #d4ebff;}#sk-container-id-3 div.sk-label input.sk-toggleable__control:checked~label.sk-toggleable__label {background-color: #d4ebff;}#sk-container-id-3 input.sk-hidden--visually {border: 0;clip: rect(1px 1px 1px 1px);clip: rect(1px, 1px, 1px, 1px);height: 1px;margin: -1px;overflow: hidden;padding: 0;position: absolute;width: 1px;}#sk-container-id-3 div.sk-estimator {font-family: monospace;background-color: #f0f8ff;border: 1px dotted black;border-radius: 0.25em;box-sizing: border-box;margin-bottom: 0.5em;}#sk-container-id-3 div.sk-estimator:hover {background-color: #d4ebff;}#sk-container-id-3 div.sk-parallel-item::after {content: \"\";width: 100%;border-bottom: 1px solid gray;flex-grow: 1;}#sk-container-id-3 div.sk-label:hover label.sk-toggleable__label {background-color: #d4ebff;}#sk-container-id-3 div.sk-serial::before {content: \"\";position: absolute;border-left: 1px solid gray;box-sizing: border-box;top: 0;bottom: 0;left: 50%;z-index: 0;}#sk-container-id-3 div.sk-serial {display: flex;flex-direction: column;align-items: center;background-color: white;padding-right: 0.2em;padding-left: 0.2em;position: relative;}#sk-container-id-3 div.sk-item {position: relative;z-index: 1;}#sk-container-id-3 div.sk-parallel {display: flex;align-items: stretch;justify-content: center;background-color: white;position: relative;}#sk-container-id-3 div.sk-item::before, #sk-container-id-3 div.sk-parallel-item::before {content: \"\";position: absolute;border-left: 1px solid gray;box-sizing: border-box;top: 0;bottom: 0;left: 50%;z-index: -1;}#sk-container-id-3 div.sk-parallel-item {display: flex;flex-direction: column;z-index: 1;position: relative;background-color: white;}#sk-container-id-3 div.sk-parallel-item:first-child::after {align-self: flex-end;width: 50%;}#sk-container-id-3 div.sk-parallel-item:last-child::after {align-self: flex-start;width: 50%;}#sk-container-id-3 div.sk-parallel-item:only-child::after {width: 0;}#sk-container-id-3 div.sk-dashed-wrapped {border: 1px dashed gray;margin: 0 0.4em 0.5em 0.4em;box-sizing: border-box;padding-bottom: 0.4em;background-color: white;}#sk-container-id-3 div.sk-label label {font-family: monospace;font-weight: bold;display: inline-block;line-height: 1.2em;}#sk-container-id-3 div.sk-label-container {text-align: center;}#sk-container-id-3 div.sk-container {/* jupyter's `normalize.less` sets `[hidden] { display: none; }` but bootstrap.min.css set `[hidden] { display: none !important; }` so we also need the `!important` here to be able to override the default hidden behavior on the sphinx rendered scikit-learn.org. See: https://github.com/scikit-learn/scikit-learn/issues/21755 */display: inline-block !important;position: relative;}#sk-container-id-3 div.sk-text-repr-fallback {display: none;}</style><div id=\"sk-container-id-3\" class=\"sk-top-container\"><div class=\"sk-text-repr-fallback\"><pre>Pipeline(steps=[(&#x27;ecgsignalcleaner&#x27;, EcgSignalCleaner()),\n",
       "                (&#x27;ecglfccfeatsextractor&#x27;, EcgLfccFeatsExtractor()),\n",
       "                (&#x27;functiontransformer&#x27;,\n",
       "                 FunctionTransformer(func=&lt;function flatten_leads at 0x7f088d430280&gt;))])</pre><b>In a Jupyter environment, please rerun this cell to show the HTML representation or trust the notebook. <br />On GitHub, the HTML representation is unable to render, please try loading this page with nbviewer.org.</b></div><div class=\"sk-container\" hidden><div class=\"sk-item sk-dashed-wrapped\"><div class=\"sk-label-container\"><div class=\"sk-label sk-toggleable\"><input class=\"sk-toggleable__control sk-hidden--visually\" id=\"sk-estimator-id-20\" type=\"checkbox\" ><label for=\"sk-estimator-id-20\" class=\"sk-toggleable__label sk-toggleable__label-arrow\">Pipeline</label><div class=\"sk-toggleable__content\"><pre>Pipeline(steps=[(&#x27;ecgsignalcleaner&#x27;, EcgSignalCleaner()),\n",
       "                (&#x27;ecglfccfeatsextractor&#x27;, EcgLfccFeatsExtractor()),\n",
       "                (&#x27;functiontransformer&#x27;,\n",
       "                 FunctionTransformer(func=&lt;function flatten_leads at 0x7f088d430280&gt;))])</pre></div></div></div><div class=\"sk-serial\"><div class=\"sk-item\"><div class=\"sk-estimator sk-toggleable\"><input class=\"sk-toggleable__control sk-hidden--visually\" id=\"sk-estimator-id-21\" type=\"checkbox\" ><label for=\"sk-estimator-id-21\" class=\"sk-toggleable__label sk-toggleable__label-arrow\">EcgSignalCleaner</label><div class=\"sk-toggleable__content\"><pre>EcgSignalCleaner()</pre></div></div></div><div class=\"sk-item\"><div class=\"sk-estimator sk-toggleable\"><input class=\"sk-toggleable__control sk-hidden--visually\" id=\"sk-estimator-id-22\" type=\"checkbox\" ><label for=\"sk-estimator-id-22\" class=\"sk-toggleable__label sk-toggleable__label-arrow\">EcgLfccFeatsExtractor</label><div class=\"sk-toggleable__content\"><pre>EcgLfccFeatsExtractor()</pre></div></div></div><div class=\"sk-item\"><div class=\"sk-estimator sk-toggleable\"><input class=\"sk-toggleable__control sk-hidden--visually\" id=\"sk-estimator-id-23\" type=\"checkbox\" ><label for=\"sk-estimator-id-23\" class=\"sk-toggleable__label sk-toggleable__label-arrow\">FunctionTransformer</label><div class=\"sk-toggleable__content\"><pre>FunctionTransformer(func=&lt;function flatten_leads at 0x7f088d430280&gt;)</pre></div></div></div></div></div></div></div>"
      ],
      "text/plain": [
       "Pipeline(steps=[('ecgsignalcleaner', EcgSignalCleaner()),\n",
       "                ('ecglfccfeatsextractor', EcgLfccFeatsExtractor()),\n",
       "                ('functiontransformer',\n",
       "                 FunctionTransformer(func=<function flatten_leads at 0x7f088d430280>))])"
      ]
     },
     "execution_count": 6,
     "metadata": {},
     "output_type": "execute_result"
    }
   ],
   "source": [
    "def debug_shape(x):\n",
    "    print(x.shape)\n",
    "    return x\n",
    "\n",
    "def debug_dtype(x):\n",
    "    print(x.dtype)\n",
    "    return x\n",
    "\n",
    "dataprep_pipe = sklearn.pipeline.make_pipeline(\n",
    "    data_utils.EcgSignalCleaner(),\n",
    "    features_utils.EcgLfccFeatsExtractor(),\n",
    "    sklearn.pipeline.FunctionTransformer(data_utils.flatten_leads),\n",
    "    )\n",
    "dataprep_pipe"
   ]
  },
  {
   "cell_type": "code",
   "execution_count": 7,
   "metadata": {},
   "outputs": [
    {
     "data": {
      "text/html": [
       "<style>#sk-container-id-4 {color: black;background-color: white;}#sk-container-id-4 pre{padding: 0;}#sk-container-id-4 div.sk-toggleable {background-color: white;}#sk-container-id-4 label.sk-toggleable__label {cursor: pointer;display: block;width: 100%;margin-bottom: 0;padding: 0.3em;box-sizing: border-box;text-align: center;}#sk-container-id-4 label.sk-toggleable__label-arrow:before {content: \"▸\";float: left;margin-right: 0.25em;color: #696969;}#sk-container-id-4 label.sk-toggleable__label-arrow:hover:before {color: black;}#sk-container-id-4 div.sk-estimator:hover label.sk-toggleable__label-arrow:before {color: black;}#sk-container-id-4 div.sk-toggleable__content {max-height: 0;max-width: 0;overflow: hidden;text-align: left;background-color: #f0f8ff;}#sk-container-id-4 div.sk-toggleable__content pre {margin: 0.2em;color: black;border-radius: 0.25em;background-color: #f0f8ff;}#sk-container-id-4 input.sk-toggleable__control:checked~div.sk-toggleable__content {max-height: 200px;max-width: 100%;overflow: auto;}#sk-container-id-4 input.sk-toggleable__control:checked~label.sk-toggleable__label-arrow:before {content: \"▾\";}#sk-container-id-4 div.sk-estimator input.sk-toggleable__control:checked~label.sk-toggleable__label {background-color: #d4ebff;}#sk-container-id-4 div.sk-label input.sk-toggleable__control:checked~label.sk-toggleable__label {background-color: #d4ebff;}#sk-container-id-4 input.sk-hidden--visually {border: 0;clip: rect(1px 1px 1px 1px);clip: rect(1px, 1px, 1px, 1px);height: 1px;margin: -1px;overflow: hidden;padding: 0;position: absolute;width: 1px;}#sk-container-id-4 div.sk-estimator {font-family: monospace;background-color: #f0f8ff;border: 1px dotted black;border-radius: 0.25em;box-sizing: border-box;margin-bottom: 0.5em;}#sk-container-id-4 div.sk-estimator:hover {background-color: #d4ebff;}#sk-container-id-4 div.sk-parallel-item::after {content: \"\";width: 100%;border-bottom: 1px solid gray;flex-grow: 1;}#sk-container-id-4 div.sk-label:hover label.sk-toggleable__label {background-color: #d4ebff;}#sk-container-id-4 div.sk-serial::before {content: \"\";position: absolute;border-left: 1px solid gray;box-sizing: border-box;top: 0;bottom: 0;left: 50%;z-index: 0;}#sk-container-id-4 div.sk-serial {display: flex;flex-direction: column;align-items: center;background-color: white;padding-right: 0.2em;padding-left: 0.2em;position: relative;}#sk-container-id-4 div.sk-item {position: relative;z-index: 1;}#sk-container-id-4 div.sk-parallel {display: flex;align-items: stretch;justify-content: center;background-color: white;position: relative;}#sk-container-id-4 div.sk-item::before, #sk-container-id-4 div.sk-parallel-item::before {content: \"\";position: absolute;border-left: 1px solid gray;box-sizing: border-box;top: 0;bottom: 0;left: 50%;z-index: -1;}#sk-container-id-4 div.sk-parallel-item {display: flex;flex-direction: column;z-index: 1;position: relative;background-color: white;}#sk-container-id-4 div.sk-parallel-item:first-child::after {align-self: flex-end;width: 50%;}#sk-container-id-4 div.sk-parallel-item:last-child::after {align-self: flex-start;width: 50%;}#sk-container-id-4 div.sk-parallel-item:only-child::after {width: 0;}#sk-container-id-4 div.sk-dashed-wrapped {border: 1px dashed gray;margin: 0 0.4em 0.5em 0.4em;box-sizing: border-box;padding-bottom: 0.4em;background-color: white;}#sk-container-id-4 div.sk-label label {font-family: monospace;font-weight: bold;display: inline-block;line-height: 1.2em;}#sk-container-id-4 div.sk-label-container {text-align: center;}#sk-container-id-4 div.sk-container {/* jupyter's `normalize.less` sets `[hidden] { display: none; }` but bootstrap.min.css set `[hidden] { display: none !important; }` so we also need the `!important` here to be able to override the default hidden behavior on the sphinx rendered scikit-learn.org. See: https://github.com/scikit-learn/scikit-learn/issues/21755 */display: inline-block !important;position: relative;}#sk-container-id-4 div.sk-text-repr-fallback {display: none;}</style><div id=\"sk-container-id-4\" class=\"sk-top-container\"><div class=\"sk-text-repr-fallback\"><pre>Pipeline(steps=[(&#x27;ecgleadselector&#x27;,\n",
       "                 EcgLeadSelector(lead_name=&#x27;MDC_ECG_LEAD_II&#x27;)),\n",
       "                (&#x27;pipeline&#x27;,\n",
       "                 Pipeline(steps=[(&#x27;ecgsignalcleaner&#x27;, EcgSignalCleaner()),\n",
       "                                 (&#x27;ecglfccfeatsextractor&#x27;,\n",
       "                                  EcgLfccFeatsExtractor()),\n",
       "                                 (&#x27;functiontransformer&#x27;,\n",
       "                                  FunctionTransformer(func=&lt;function flatten_leads at 0x7f088d430280&gt;))]))])</pre><b>In a Jupyter environment, please rerun this cell to show the HTML representation or trust the notebook. <br />On GitHub, the HTML representation is unable to render, please try loading this page with nbviewer.org.</b></div><div class=\"sk-container\" hidden><div class=\"sk-item sk-dashed-wrapped\"><div class=\"sk-label-container\"><div class=\"sk-label sk-toggleable\"><input class=\"sk-toggleable__control sk-hidden--visually\" id=\"sk-estimator-id-24\" type=\"checkbox\" ><label for=\"sk-estimator-id-24\" class=\"sk-toggleable__label sk-toggleable__label-arrow\">Pipeline</label><div class=\"sk-toggleable__content\"><pre>Pipeline(steps=[(&#x27;ecgleadselector&#x27;,\n",
       "                 EcgLeadSelector(lead_name=&#x27;MDC_ECG_LEAD_II&#x27;)),\n",
       "                (&#x27;pipeline&#x27;,\n",
       "                 Pipeline(steps=[(&#x27;ecgsignalcleaner&#x27;, EcgSignalCleaner()),\n",
       "                                 (&#x27;ecglfccfeatsextractor&#x27;,\n",
       "                                  EcgLfccFeatsExtractor()),\n",
       "                                 (&#x27;functiontransformer&#x27;,\n",
       "                                  FunctionTransformer(func=&lt;function flatten_leads at 0x7f088d430280&gt;))]))])</pre></div></div></div><div class=\"sk-serial\"><div class=\"sk-item\"><div class=\"sk-estimator sk-toggleable\"><input class=\"sk-toggleable__control sk-hidden--visually\" id=\"sk-estimator-id-25\" type=\"checkbox\" ><label for=\"sk-estimator-id-25\" class=\"sk-toggleable__label sk-toggleable__label-arrow\">EcgLeadSelector</label><div class=\"sk-toggleable__content\"><pre>EcgLeadSelector(lead_name=&#x27;MDC_ECG_LEAD_II&#x27;)</pre></div></div></div><div class=\"sk-item\"><div class=\"sk-label-container\"><div class=\"sk-label sk-toggleable\"><input class=\"sk-toggleable__control sk-hidden--visually\" id=\"sk-estimator-id-26\" type=\"checkbox\" ><label for=\"sk-estimator-id-26\" class=\"sk-toggleable__label sk-toggleable__label-arrow\">pipeline: Pipeline</label><div class=\"sk-toggleable__content\"><pre>Pipeline(steps=[(&#x27;ecgsignalcleaner&#x27;, EcgSignalCleaner()),\n",
       "                (&#x27;ecglfccfeatsextractor&#x27;, EcgLfccFeatsExtractor()),\n",
       "                (&#x27;functiontransformer&#x27;,\n",
       "                 FunctionTransformer(func=&lt;function flatten_leads at 0x7f088d430280&gt;))])</pre></div></div></div><div class=\"sk-serial\"><div class=\"sk-item\"><div class=\"sk-estimator sk-toggleable\"><input class=\"sk-toggleable__control sk-hidden--visually\" id=\"sk-estimator-id-27\" type=\"checkbox\" ><label for=\"sk-estimator-id-27\" class=\"sk-toggleable__label sk-toggleable__label-arrow\">EcgSignalCleaner</label><div class=\"sk-toggleable__content\"><pre>EcgSignalCleaner()</pre></div></div></div><div class=\"sk-item\"><div class=\"sk-estimator sk-toggleable\"><input class=\"sk-toggleable__control sk-hidden--visually\" id=\"sk-estimator-id-28\" type=\"checkbox\" ><label for=\"sk-estimator-id-28\" class=\"sk-toggleable__label sk-toggleable__label-arrow\">EcgLfccFeatsExtractor</label><div class=\"sk-toggleable__content\"><pre>EcgLfccFeatsExtractor()</pre></div></div></div><div class=\"sk-item\"><div class=\"sk-estimator sk-toggleable\"><input class=\"sk-toggleable__control sk-hidden--visually\" id=\"sk-estimator-id-29\" type=\"checkbox\" ><label for=\"sk-estimator-id-29\" class=\"sk-toggleable__label sk-toggleable__label-arrow\">FunctionTransformer</label><div class=\"sk-toggleable__content\"><pre>FunctionTransformer(func=&lt;function flatten_leads at 0x7f088d430280&gt;)</pre></div></div></div></div></div></div></div></div></div>"
      ],
      "text/plain": [
       "Pipeline(steps=[('ecgleadselector',\n",
       "                 EcgLeadSelector(lead_name='MDC_ECG_LEAD_II')),\n",
       "                ('pipeline',\n",
       "                 Pipeline(steps=[('ecgsignalcleaner', EcgSignalCleaner()),\n",
       "                                 ('ecglfccfeatsextractor',\n",
       "                                  EcgLfccFeatsExtractor()),\n",
       "                                 ('functiontransformer',\n",
       "                                  FunctionTransformer(func=<function flatten_leads at 0x7f088d430280>))]))])"
      ]
     },
     "execution_count": 7,
     "metadata": {},
     "output_type": "execute_result"
    }
   ],
   "source": [
    "dataprep_pipe_lead_ii = sklearn.pipeline.make_pipeline(\n",
    "    data_utils.EcgLeadSelector('MDC_ECG_LEAD_II'),\n",
    "    dataprep_pipe,\n",
    "    )\n",
    "dataprep_pipe_lead_ii"
   ]
  },
  {
   "cell_type": "code",
   "execution_count": 20,
   "metadata": {},
   "outputs": [
    {
     "name": "stdout",
     "output_type": "stream",
     "text": [
      "x: float32\n",
      "cleaned_signals: float64\n"
     ]
    },
    {
     "name": "stderr",
     "output_type": "stream",
     "text": [
      "/mnt/md0/user/scheuererra68323/covid-ecg/.venv/lib/python3.8/site-packages/spafe/utils/cepstral.py:41: RuntimeWarning: invalid value encountered in true_divide\n",
      "  return x / np.std(x)\n"
     ]
    }
   ],
   "source": [
    "feats = dataprep_pipe.fit_transform(X)"
   ]
  },
  {
   "cell_type": "code",
   "execution_count": 21,
   "metadata": {},
   "outputs": [
    {
     "name": "stdout",
     "output_type": "stream",
     "text": [
      "(10272, 12974)\n",
      "12974\n"
     ]
    }
   ],
   "source": [
    "print(feats.shape)\n",
    "featsdf = pd.DataFrame(feats)\n",
    "print(featsdf.isnull().sum().sum())"
   ]
  },
  {
   "cell_type": "code",
   "execution_count": null,
   "metadata": {},
   "outputs": [],
   "source": [
    "print(targets)"
   ]
  },
  {
   "cell_type": "code",
   "execution_count": null,
   "metadata": {},
   "outputs": [],
   "source": []
  },
  {
   "cell_type": "code",
   "execution_count": 10,
   "metadata": {},
   "outputs": [
    {
     "name": "stdout",
     "output_type": "stream",
     "text": [
      "x: float32\n",
      "cleaned_signals: float64\n",
      "Fitting and evaluating lfcc__all_leads__svm_linear\n",
      "x: float32\n",
      "cleaned_signals: float64\n",
      "x: float32\n",
      "cleaned_signals: float64\n"
     ]
    },
    {
     "name": "stderr",
     "output_type": "stream",
     "text": [
      "/mnt/md0/user/scheuererra68323/covid-ecg/.venv/lib/python3.8/site-packages/spafe/utils/cepstral.py:41: RuntimeWarning: invalid value encountered in true_divide\n",
      "  return x / np.std(x)\n"
     ]
    },
    {
     "name": "stdout",
     "output_type": "stream",
     "text": [
      "x: float32\n",
      "cleaned_signals: float64\n"
     ]
    },
    {
     "name": "stderr",
     "output_type": "stream",
     "text": [
      "/mnt/md0/user/scheuererra68323/covid-ecg/.venv/lib/python3.8/site-packages/spafe/utils/cepstral.py:41: RuntimeWarning: invalid value encountered in true_divide\n",
      "  return x / np.std(x)\n"
     ]
    },
    {
     "name": "stdout",
     "output_type": "stream",
     "text": [
      "x: float32\n",
      "cleaned_signals: float64\n"
     ]
    },
    {
     "name": "stderr",
     "output_type": "stream",
     "text": [
      "/mnt/md0/user/scheuererra68323/covid-ecg/.venv/lib/python3.8/site-packages/spafe/utils/cepstral.py:41: RuntimeWarning: invalid value encountered in true_divide\n",
      "  return x / np.std(x)\n"
     ]
    },
    {
     "name": "stdout",
     "output_type": "stream",
     "text": [
      "x: float32\n",
      "cleaned_signals: float64\n"
     ]
    },
    {
     "name": "stderr",
     "output_type": "stream",
     "text": [
      "/mnt/md0/user/scheuererra68323/covid-ecg/.venv/lib/python3.8/site-packages/spafe/utils/cepstral.py:41: RuntimeWarning: invalid value encountered in true_divide\n",
      "  return x / np.std(x)\n"
     ]
    },
    {
     "ename": "ValueError",
     "evalue": "\nAll the 5 fits failed.\nIt is is very likely that your model is misconfigured.\nYou can try to debug the error by setting error_score='raise'.\n\nBelow are more details about the failures:\n--------------------------------------------------------------------------------\n1 fits failed with the following error:\nTraceback (most recent call last):\n  File \"/mnt/md0/user/scheuererra68323/covid-ecg/.venv/lib/python3.8/site-packages/sklearn/model_selection/_validation.py\", line 686, in _fit_and_score\n    estimator.fit(X_train, y_train, **fit_params)\n  File \"/mnt/md0/user/scheuererra68323/covid-ecg/.venv/lib/python3.8/site-packages/sklearn/pipeline.py\", line 382, in fit\n    self._final_estimator.fit(Xt, y, **fit_params_last_step)\n  File \"/mnt/md0/user/scheuererra68323/covid-ecg/.venv/lib/python3.8/site-packages/sklearn/svm/_base.py\", line 173, in fit\n    X, y = self._validate_data(\n  File \"/mnt/md0/user/scheuererra68323/covid-ecg/.venv/lib/python3.8/site-packages/sklearn/base.py\", line 596, in _validate_data\n    X, y = check_X_y(X, y, **check_params)\n  File \"/mnt/md0/user/scheuererra68323/covid-ecg/.venv/lib/python3.8/site-packages/sklearn/utils/validation.py\", line 1088, in check_X_y\n    check_consistent_length(X, y)\n  File \"/mnt/md0/user/scheuererra68323/covid-ecg/.venv/lib/python3.8/site-packages/sklearn/utils/validation.py\", line 383, in check_consistent_length\n    raise ValueError(\nValueError: Found input variables with inconsistent numbers of samples: [8208, 684]\n\n--------------------------------------------------------------------------------\n4 fits failed with the following error:\nTraceback (most recent call last):\n  File \"/mnt/md0/user/scheuererra68323/covid-ecg/.venv/lib/python3.8/site-packages/sklearn/model_selection/_validation.py\", line 686, in _fit_and_score\n    estimator.fit(X_train, y_train, **fit_params)\n  File \"/mnt/md0/user/scheuererra68323/covid-ecg/.venv/lib/python3.8/site-packages/sklearn/pipeline.py\", line 382, in fit\n    self._final_estimator.fit(Xt, y, **fit_params_last_step)\n  File \"/mnt/md0/user/scheuererra68323/covid-ecg/.venv/lib/python3.8/site-packages/sklearn/svm/_base.py\", line 173, in fit\n    X, y = self._validate_data(\n  File \"/mnt/md0/user/scheuererra68323/covid-ecg/.venv/lib/python3.8/site-packages/sklearn/base.py\", line 596, in _validate_data\n    X, y = check_X_y(X, y, **check_params)\n  File \"/mnt/md0/user/scheuererra68323/covid-ecg/.venv/lib/python3.8/site-packages/sklearn/utils/validation.py\", line 1070, in check_X_y\n    X = check_array(\n  File \"/mnt/md0/user/scheuererra68323/covid-ecg/.venv/lib/python3.8/site-packages/sklearn/utils/validation.py\", line 895, in check_array\n    _assert_all_finite(\n  File \"/mnt/md0/user/scheuererra68323/covid-ecg/.venv/lib/python3.8/site-packages/sklearn/utils/validation.py\", line 142, in _assert_all_finite\n    raise ValueError(msg_err)\nValueError: Input X contains NaN.\nSVC does not accept missing values encoded as NaN natively. For supervised learning, you might want to consider sklearn.ensemble.HistGradientBoostingClassifier and Regressor which accept missing values encoded as NaNs natively. Alternatively, it is possible to preprocess the data, for instance by using an imputer transformer in a pipeline or drop samples with missing values. See https://scikit-learn.org/stable/modules/impute.html\n",
     "output_type": "error",
     "traceback": [
      "\u001b[0;31m---------------------------------------------------------------------------\u001b[0m",
      "\u001b[0;31mValueError\u001b[0m                                Traceback (most recent call last)",
      "\u001b[1;32m/mnt/md0/user/scheuererra68323/covid-ecg/notebooks/exp-lfcc.ipynb Cell 5'\u001b[0m in \u001b[0;36m<cell line: 65>\u001b[0;34m()\u001b[0m\n\u001b[1;32m     <a href='vscode-notebook-cell://ssh-remote%2Bml0/mnt/md0/user/scheuererra68323/covid-ecg/notebooks/exp-lfcc.ipynb#ch0000003vscode-remote?line=64'>65</a>\u001b[0m \u001b[39mfor\u001b[39;00m _exp_name, _pipe \u001b[39min\u001b[39;00m experiments:\n\u001b[1;32m     <a href='vscode-notebook-cell://ssh-remote%2Bml0/mnt/md0/user/scheuererra68323/covid-ecg/notebooks/exp-lfcc.ipynb#ch0000003vscode-remote?line=65'>66</a>\u001b[0m     \u001b[39mprint\u001b[39m(\u001b[39mf\u001b[39m\u001b[39m\"\u001b[39m\u001b[39mFitting and evaluating \u001b[39m\u001b[39m{\u001b[39;00m_exp_name\u001b[39m}\u001b[39;00m\u001b[39m\"\u001b[39m)\n\u001b[0;32m---> <a href='vscode-notebook-cell://ssh-remote%2Bml0/mnt/md0/user/scheuererra68323/covid-ecg/notebooks/exp-lfcc.ipynb#ch0000003vscode-remote?line=66'>67</a>\u001b[0m     cvscore \u001b[39m=\u001b[39m sklearn\u001b[39m.\u001b[39;49mmodel_selection\u001b[39m.\u001b[39;49mcross_val_score(_pipe, X\u001b[39m=\u001b[39;49mX, y\u001b[39m=\u001b[39;49my, cv\u001b[39m=\u001b[39;49m\u001b[39m5\u001b[39;49m, \n\u001b[1;32m     <a href='vscode-notebook-cell://ssh-remote%2Bml0/mnt/md0/user/scheuererra68323/covid-ecg/notebooks/exp-lfcc.ipynb#ch0000003vscode-remote?line=67'>68</a>\u001b[0m         scoring\u001b[39m=\u001b[39;49msklearn\u001b[39m.\u001b[39;49mmetrics\u001b[39m.\u001b[39;49mmake_scorer(sklearn\u001b[39m.\u001b[39;49mmetrics\u001b[39m.\u001b[39;49mroc_auc_score))\n\u001b[1;32m     <a href='vscode-notebook-cell://ssh-remote%2Bml0/mnt/md0/user/scheuererra68323/covid-ecg/notebooks/exp-lfcc.ipynb#ch0000003vscode-remote?line=68'>69</a>\u001b[0m     \u001b[39mprint\u001b[39m(\u001b[39mF\u001b[39m\u001b[39m\"\u001b[39m\u001b[39mMean ROC/AUC Score after 5-fold cross validation: \u001b[39m\u001b[39m{\u001b[39;00mnp\u001b[39m.\u001b[39mmean(cvscore)\u001b[39m}\u001b[39;00m\u001b[39m\"\u001b[39m)\n\u001b[1;32m     <a href='vscode-notebook-cell://ssh-remote%2Bml0/mnt/md0/user/scheuererra68323/covid-ecg/notebooks/exp-lfcc.ipynb#ch0000003vscode-remote?line=69'>70</a>\u001b[0m     \u001b[39mprint\u001b[39m()\n",
      "File \u001b[0;32m/mnt/md0/user/scheuererra68323/covid-ecg/.venv/lib/python3.8/site-packages/sklearn/model_selection/_validation.py:515\u001b[0m, in \u001b[0;36mcross_val_score\u001b[0;34m(estimator, X, y, groups, scoring, cv, n_jobs, verbose, fit_params, pre_dispatch, error_score)\u001b[0m\n\u001b[1;32m    <a href='file:///mnt/md0/user/scheuererra68323/covid-ecg/.venv/lib/python3.8/site-packages/sklearn/model_selection/_validation.py?line=511'>512</a>\u001b[0m \u001b[39m# To ensure multimetric format is not supported\u001b[39;00m\n\u001b[1;32m    <a href='file:///mnt/md0/user/scheuererra68323/covid-ecg/.venv/lib/python3.8/site-packages/sklearn/model_selection/_validation.py?line=512'>513</a>\u001b[0m scorer \u001b[39m=\u001b[39m check_scoring(estimator, scoring\u001b[39m=\u001b[39mscoring)\n\u001b[0;32m--> <a href='file:///mnt/md0/user/scheuererra68323/covid-ecg/.venv/lib/python3.8/site-packages/sklearn/model_selection/_validation.py?line=514'>515</a>\u001b[0m cv_results \u001b[39m=\u001b[39m cross_validate(\n\u001b[1;32m    <a href='file:///mnt/md0/user/scheuererra68323/covid-ecg/.venv/lib/python3.8/site-packages/sklearn/model_selection/_validation.py?line=515'>516</a>\u001b[0m     estimator\u001b[39m=\u001b[39;49mestimator,\n\u001b[1;32m    <a href='file:///mnt/md0/user/scheuererra68323/covid-ecg/.venv/lib/python3.8/site-packages/sklearn/model_selection/_validation.py?line=516'>517</a>\u001b[0m     X\u001b[39m=\u001b[39;49mX,\n\u001b[1;32m    <a href='file:///mnt/md0/user/scheuererra68323/covid-ecg/.venv/lib/python3.8/site-packages/sklearn/model_selection/_validation.py?line=517'>518</a>\u001b[0m     y\u001b[39m=\u001b[39;49my,\n\u001b[1;32m    <a href='file:///mnt/md0/user/scheuererra68323/covid-ecg/.venv/lib/python3.8/site-packages/sklearn/model_selection/_validation.py?line=518'>519</a>\u001b[0m     groups\u001b[39m=\u001b[39;49mgroups,\n\u001b[1;32m    <a href='file:///mnt/md0/user/scheuererra68323/covid-ecg/.venv/lib/python3.8/site-packages/sklearn/model_selection/_validation.py?line=519'>520</a>\u001b[0m     scoring\u001b[39m=\u001b[39;49m{\u001b[39m\"\u001b[39;49m\u001b[39mscore\u001b[39;49m\u001b[39m\"\u001b[39;49m: scorer},\n\u001b[1;32m    <a href='file:///mnt/md0/user/scheuererra68323/covid-ecg/.venv/lib/python3.8/site-packages/sklearn/model_selection/_validation.py?line=520'>521</a>\u001b[0m     cv\u001b[39m=\u001b[39;49mcv,\n\u001b[1;32m    <a href='file:///mnt/md0/user/scheuererra68323/covid-ecg/.venv/lib/python3.8/site-packages/sklearn/model_selection/_validation.py?line=521'>522</a>\u001b[0m     n_jobs\u001b[39m=\u001b[39;49mn_jobs,\n\u001b[1;32m    <a href='file:///mnt/md0/user/scheuererra68323/covid-ecg/.venv/lib/python3.8/site-packages/sklearn/model_selection/_validation.py?line=522'>523</a>\u001b[0m     verbose\u001b[39m=\u001b[39;49mverbose,\n\u001b[1;32m    <a href='file:///mnt/md0/user/scheuererra68323/covid-ecg/.venv/lib/python3.8/site-packages/sklearn/model_selection/_validation.py?line=523'>524</a>\u001b[0m     fit_params\u001b[39m=\u001b[39;49mfit_params,\n\u001b[1;32m    <a href='file:///mnt/md0/user/scheuererra68323/covid-ecg/.venv/lib/python3.8/site-packages/sklearn/model_selection/_validation.py?line=524'>525</a>\u001b[0m     pre_dispatch\u001b[39m=\u001b[39;49mpre_dispatch,\n\u001b[1;32m    <a href='file:///mnt/md0/user/scheuererra68323/covid-ecg/.venv/lib/python3.8/site-packages/sklearn/model_selection/_validation.py?line=525'>526</a>\u001b[0m     error_score\u001b[39m=\u001b[39;49merror_score,\n\u001b[1;32m    <a href='file:///mnt/md0/user/scheuererra68323/covid-ecg/.venv/lib/python3.8/site-packages/sklearn/model_selection/_validation.py?line=526'>527</a>\u001b[0m )\n\u001b[1;32m    <a href='file:///mnt/md0/user/scheuererra68323/covid-ecg/.venv/lib/python3.8/site-packages/sklearn/model_selection/_validation.py?line=527'>528</a>\u001b[0m \u001b[39mreturn\u001b[39;00m cv_results[\u001b[39m\"\u001b[39m\u001b[39mtest_score\u001b[39m\u001b[39m\"\u001b[39m]\n",
      "File \u001b[0;32m/mnt/md0/user/scheuererra68323/covid-ecg/.venv/lib/python3.8/site-packages/sklearn/model_selection/_validation.py:285\u001b[0m, in \u001b[0;36mcross_validate\u001b[0;34m(estimator, X, y, groups, scoring, cv, n_jobs, verbose, fit_params, pre_dispatch, return_train_score, return_estimator, error_score)\u001b[0m\n\u001b[1;32m    <a href='file:///mnt/md0/user/scheuererra68323/covid-ecg/.venv/lib/python3.8/site-packages/sklearn/model_selection/_validation.py?line=264'>265</a>\u001b[0m parallel \u001b[39m=\u001b[39m Parallel(n_jobs\u001b[39m=\u001b[39mn_jobs, verbose\u001b[39m=\u001b[39mverbose, pre_dispatch\u001b[39m=\u001b[39mpre_dispatch)\n\u001b[1;32m    <a href='file:///mnt/md0/user/scheuererra68323/covid-ecg/.venv/lib/python3.8/site-packages/sklearn/model_selection/_validation.py?line=265'>266</a>\u001b[0m results \u001b[39m=\u001b[39m parallel(\n\u001b[1;32m    <a href='file:///mnt/md0/user/scheuererra68323/covid-ecg/.venv/lib/python3.8/site-packages/sklearn/model_selection/_validation.py?line=266'>267</a>\u001b[0m     delayed(_fit_and_score)(\n\u001b[1;32m    <a href='file:///mnt/md0/user/scheuererra68323/covid-ecg/.venv/lib/python3.8/site-packages/sklearn/model_selection/_validation.py?line=267'>268</a>\u001b[0m         clone(estimator),\n\u001b[0;32m   (...)\u001b[0m\n\u001b[1;32m    <a href='file:///mnt/md0/user/scheuererra68323/covid-ecg/.venv/lib/python3.8/site-packages/sklearn/model_selection/_validation.py?line=281'>282</a>\u001b[0m     \u001b[39mfor\u001b[39;00m train, test \u001b[39min\u001b[39;00m cv\u001b[39m.\u001b[39msplit(X, y, groups)\n\u001b[1;32m    <a href='file:///mnt/md0/user/scheuererra68323/covid-ecg/.venv/lib/python3.8/site-packages/sklearn/model_selection/_validation.py?line=282'>283</a>\u001b[0m )\n\u001b[0;32m--> <a href='file:///mnt/md0/user/scheuererra68323/covid-ecg/.venv/lib/python3.8/site-packages/sklearn/model_selection/_validation.py?line=284'>285</a>\u001b[0m _warn_or_raise_about_fit_failures(results, error_score)\n\u001b[1;32m    <a href='file:///mnt/md0/user/scheuererra68323/covid-ecg/.venv/lib/python3.8/site-packages/sklearn/model_selection/_validation.py?line=286'>287</a>\u001b[0m \u001b[39m# For callabe scoring, the return type is only know after calling. If the\u001b[39;00m\n\u001b[1;32m    <a href='file:///mnt/md0/user/scheuererra68323/covid-ecg/.venv/lib/python3.8/site-packages/sklearn/model_selection/_validation.py?line=287'>288</a>\u001b[0m \u001b[39m# return type is a dictionary, the error scores can now be inserted with\u001b[39;00m\n\u001b[1;32m    <a href='file:///mnt/md0/user/scheuererra68323/covid-ecg/.venv/lib/python3.8/site-packages/sklearn/model_selection/_validation.py?line=288'>289</a>\u001b[0m \u001b[39m# the correct key.\u001b[39;00m\n\u001b[1;32m    <a href='file:///mnt/md0/user/scheuererra68323/covid-ecg/.venv/lib/python3.8/site-packages/sklearn/model_selection/_validation.py?line=289'>290</a>\u001b[0m \u001b[39mif\u001b[39;00m callable(scoring):\n",
      "File \u001b[0;32m/mnt/md0/user/scheuererra68323/covid-ecg/.venv/lib/python3.8/site-packages/sklearn/model_selection/_validation.py:367\u001b[0m, in \u001b[0;36m_warn_or_raise_about_fit_failures\u001b[0;34m(results, error_score)\u001b[0m\n\u001b[1;32m    <a href='file:///mnt/md0/user/scheuererra68323/covid-ecg/.venv/lib/python3.8/site-packages/sklearn/model_selection/_validation.py?line=359'>360</a>\u001b[0m \u001b[39mif\u001b[39;00m num_failed_fits \u001b[39m==\u001b[39m num_fits:\n\u001b[1;32m    <a href='file:///mnt/md0/user/scheuererra68323/covid-ecg/.venv/lib/python3.8/site-packages/sklearn/model_selection/_validation.py?line=360'>361</a>\u001b[0m     all_fits_failed_message \u001b[39m=\u001b[39m (\n\u001b[1;32m    <a href='file:///mnt/md0/user/scheuererra68323/covid-ecg/.venv/lib/python3.8/site-packages/sklearn/model_selection/_validation.py?line=361'>362</a>\u001b[0m         \u001b[39mf\u001b[39m\u001b[39m\"\u001b[39m\u001b[39m\\n\u001b[39;00m\u001b[39mAll the \u001b[39m\u001b[39m{\u001b[39;00mnum_fits\u001b[39m}\u001b[39;00m\u001b[39m fits failed.\u001b[39m\u001b[39m\\n\u001b[39;00m\u001b[39m\"\u001b[39m\n\u001b[1;32m    <a href='file:///mnt/md0/user/scheuererra68323/covid-ecg/.venv/lib/python3.8/site-packages/sklearn/model_selection/_validation.py?line=362'>363</a>\u001b[0m         \u001b[39m\"\u001b[39m\u001b[39mIt is is very likely that your model is misconfigured.\u001b[39m\u001b[39m\\n\u001b[39;00m\u001b[39m\"\u001b[39m\n\u001b[1;32m    <a href='file:///mnt/md0/user/scheuererra68323/covid-ecg/.venv/lib/python3.8/site-packages/sklearn/model_selection/_validation.py?line=363'>364</a>\u001b[0m         \u001b[39m\"\u001b[39m\u001b[39mYou can try to debug the error by setting error_score=\u001b[39m\u001b[39m'\u001b[39m\u001b[39mraise\u001b[39m\u001b[39m'\u001b[39m\u001b[39m.\u001b[39m\u001b[39m\\n\u001b[39;00m\u001b[39m\\n\u001b[39;00m\u001b[39m\"\u001b[39m\n\u001b[1;32m    <a href='file:///mnt/md0/user/scheuererra68323/covid-ecg/.venv/lib/python3.8/site-packages/sklearn/model_selection/_validation.py?line=364'>365</a>\u001b[0m         \u001b[39mf\u001b[39m\u001b[39m\"\u001b[39m\u001b[39mBelow are more details about the failures:\u001b[39m\u001b[39m\\n\u001b[39;00m\u001b[39m{\u001b[39;00mfit_errors_summary\u001b[39m}\u001b[39;00m\u001b[39m\"\u001b[39m\n\u001b[1;32m    <a href='file:///mnt/md0/user/scheuererra68323/covid-ecg/.venv/lib/python3.8/site-packages/sklearn/model_selection/_validation.py?line=365'>366</a>\u001b[0m     )\n\u001b[0;32m--> <a href='file:///mnt/md0/user/scheuererra68323/covid-ecg/.venv/lib/python3.8/site-packages/sklearn/model_selection/_validation.py?line=366'>367</a>\u001b[0m     \u001b[39mraise\u001b[39;00m \u001b[39mValueError\u001b[39;00m(all_fits_failed_message)\n\u001b[1;32m    <a href='file:///mnt/md0/user/scheuererra68323/covid-ecg/.venv/lib/python3.8/site-packages/sklearn/model_selection/_validation.py?line=368'>369</a>\u001b[0m \u001b[39melse\u001b[39;00m:\n\u001b[1;32m    <a href='file:///mnt/md0/user/scheuererra68323/covid-ecg/.venv/lib/python3.8/site-packages/sklearn/model_selection/_validation.py?line=369'>370</a>\u001b[0m     some_fits_failed_message \u001b[39m=\u001b[39m (\n\u001b[1;32m    <a href='file:///mnt/md0/user/scheuererra68323/covid-ecg/.venv/lib/python3.8/site-packages/sklearn/model_selection/_validation.py?line=370'>371</a>\u001b[0m         \u001b[39mf\u001b[39m\u001b[39m\"\u001b[39m\u001b[39m\\n\u001b[39;00m\u001b[39m{\u001b[39;00mnum_failed_fits\u001b[39m}\u001b[39;00m\u001b[39m fits failed out of a total of \u001b[39m\u001b[39m{\u001b[39;00mnum_fits\u001b[39m}\u001b[39;00m\u001b[39m.\u001b[39m\u001b[39m\\n\u001b[39;00m\u001b[39m\"\u001b[39m\n\u001b[1;32m    <a href='file:///mnt/md0/user/scheuererra68323/covid-ecg/.venv/lib/python3.8/site-packages/sklearn/model_selection/_validation.py?line=371'>372</a>\u001b[0m         \u001b[39m\"\u001b[39m\u001b[39mThe score on these train-test partitions for these parameters\u001b[39m\u001b[39m\"\u001b[39m\n\u001b[0;32m   (...)\u001b[0m\n\u001b[1;32m    <a href='file:///mnt/md0/user/scheuererra68323/covid-ecg/.venv/lib/python3.8/site-packages/sklearn/model_selection/_validation.py?line=375'>376</a>\u001b[0m         \u001b[39mf\u001b[39m\u001b[39m\"\u001b[39m\u001b[39mBelow are more details about the failures:\u001b[39m\u001b[39m\\n\u001b[39;00m\u001b[39m{\u001b[39;00mfit_errors_summary\u001b[39m}\u001b[39;00m\u001b[39m\"\u001b[39m\n\u001b[1;32m    <a href='file:///mnt/md0/user/scheuererra68323/covid-ecg/.venv/lib/python3.8/site-packages/sklearn/model_selection/_validation.py?line=376'>377</a>\u001b[0m     )\n",
      "\u001b[0;31mValueError\u001b[0m: \nAll the 5 fits failed.\nIt is is very likely that your model is misconfigured.\nYou can try to debug the error by setting error_score='raise'.\n\nBelow are more details about the failures:\n--------------------------------------------------------------------------------\n1 fits failed with the following error:\nTraceback (most recent call last):\n  File \"/mnt/md0/user/scheuererra68323/covid-ecg/.venv/lib/python3.8/site-packages/sklearn/model_selection/_validation.py\", line 686, in _fit_and_score\n    estimator.fit(X_train, y_train, **fit_params)\n  File \"/mnt/md0/user/scheuererra68323/covid-ecg/.venv/lib/python3.8/site-packages/sklearn/pipeline.py\", line 382, in fit\n    self._final_estimator.fit(Xt, y, **fit_params_last_step)\n  File \"/mnt/md0/user/scheuererra68323/covid-ecg/.venv/lib/python3.8/site-packages/sklearn/svm/_base.py\", line 173, in fit\n    X, y = self._validate_data(\n  File \"/mnt/md0/user/scheuererra68323/covid-ecg/.venv/lib/python3.8/site-packages/sklearn/base.py\", line 596, in _validate_data\n    X, y = check_X_y(X, y, **check_params)\n  File \"/mnt/md0/user/scheuererra68323/covid-ecg/.venv/lib/python3.8/site-packages/sklearn/utils/validation.py\", line 1088, in check_X_y\n    check_consistent_length(X, y)\n  File \"/mnt/md0/user/scheuererra68323/covid-ecg/.venv/lib/python3.8/site-packages/sklearn/utils/validation.py\", line 383, in check_consistent_length\n    raise ValueError(\nValueError: Found input variables with inconsistent numbers of samples: [8208, 684]\n\n--------------------------------------------------------------------------------\n4 fits failed with the following error:\nTraceback (most recent call last):\n  File \"/mnt/md0/user/scheuererra68323/covid-ecg/.venv/lib/python3.8/site-packages/sklearn/model_selection/_validation.py\", line 686, in _fit_and_score\n    estimator.fit(X_train, y_train, **fit_params)\n  File \"/mnt/md0/user/scheuererra68323/covid-ecg/.venv/lib/python3.8/site-packages/sklearn/pipeline.py\", line 382, in fit\n    self._final_estimator.fit(Xt, y, **fit_params_last_step)\n  File \"/mnt/md0/user/scheuererra68323/covid-ecg/.venv/lib/python3.8/site-packages/sklearn/svm/_base.py\", line 173, in fit\n    X, y = self._validate_data(\n  File \"/mnt/md0/user/scheuererra68323/covid-ecg/.venv/lib/python3.8/site-packages/sklearn/base.py\", line 596, in _validate_data\n    X, y = check_X_y(X, y, **check_params)\n  File \"/mnt/md0/user/scheuererra68323/covid-ecg/.venv/lib/python3.8/site-packages/sklearn/utils/validation.py\", line 1070, in check_X_y\n    X = check_array(\n  File \"/mnt/md0/user/scheuererra68323/covid-ecg/.venv/lib/python3.8/site-packages/sklearn/utils/validation.py\", line 895, in check_array\n    _assert_all_finite(\n  File \"/mnt/md0/user/scheuererra68323/covid-ecg/.venv/lib/python3.8/site-packages/sklearn/utils/validation.py\", line 142, in _assert_all_finite\n    raise ValueError(msg_err)\nValueError: Input X contains NaN.\nSVC does not accept missing values encoded as NaN natively. For supervised learning, you might want to consider sklearn.ensemble.HistGradientBoostingClassifier and Regressor which accept missing values encoded as NaNs natively. Alternatively, it is possible to preprocess the data, for instance by using an imputer transformer in a pipeline or drop samples with missing values. See https://scikit-learn.org/stable/modules/impute.html\n"
     ]
    }
   ],
   "source": [
    "experiments = []\n",
    "\n",
    "# SVM (linear kernel)\n",
    "experiments.append(('lfcc__all_leads__svm_linear',\n",
    "                    sklearn.pipeline.make_pipeline(dataprep_pipe, sklearn.svm.SVC(kernel='linear'))))\n",
    "experiments.append(('lfcc__lead_ii__svm_linear',\n",
    "                    sklearn.pipeline.make_pipeline(dataprep_pipe_lead_ii, sklearn.svm.SVC(kernel='linear'))))\n",
    "\n",
    "# SVM (polynomial kernel)\n",
    "# experiments.append(('lfcc__all_leads__svm_polyn',\n",
    "#                     sklearn.pipeline.make_pipeline(dataprep_pipe, sklearn.svm.SVC(kernel='poly'))))\n",
    "experiments.append(('lfcc__lead_ii__svm_polyn',\n",
    "                    sklearn.pipeline.make_pipeline(dataprep_pipe_lead_ii, sklearn.svm.SVC(kernel='poly'))))\n",
    "\n",
    "# MLP Classifier\n",
    "# experiments.append(('lfcc__all_leads__mlp',\n",
    "#                     sklearn.pipeline.make_pipeline(\n",
    "#                             dataprep_pipe,\n",
    "#                             skorch.NeuralNetClassifier(\n",
    "#                             module=covidecg.models.mlp_models.MLP,\n",
    "#                             # topology config\n",
    "#                             module__input_size=dataprep_pipe.fit_transform(X_train[[0]]).shape[1],  # number of features in flattened sample\n",
    "#                             module__hidden_size=1000,\n",
    "#                             # loss config\n",
    "#                             criterion=nn.CrossEntropyLoss,\n",
    "#                             criterion__weight=class_weights,\n",
    "#                             # hyperparams\n",
    "#                             batch_size=32,\n",
    "#                             lr=1e-4,\n",
    "#                             optimizer__momentum=0.9,\n",
    "#                             max_epochs=20,\n",
    "#                             iterator_train__shuffle=True,  # Shuffle training data on each epoch\n",
    "#                             callbacks=[\n",
    "#                                     # additional scores to observe\n",
    "#                                     EpochScoring(scoring='roc_auc', lower_is_better=False),\n",
    "#                                     # Early Stopping based on validation loss\n",
    "#                                     EarlyStopping(patience=3)\n",
    "#                                     ]\n",
    "#                             ))))\n",
    "experiments.append(('lfcc__lead_ii__mlp',\n",
    "                    sklearn.pipeline.make_pipeline(\n",
    "                    dataprep_pipe_lead_ii,\n",
    "                    skorch.NeuralNetClassifier(\n",
    "                        module=covidecg.models.mlp_models.MLP,\n",
    "                        # topology config\n",
    "                        module__input_size=dataprep_pipe_lead_ii.fit_transform(X_train[[0]]).shape[1],  # number of features in flattened sample\n",
    "                        module__hidden_size=1000,\n",
    "                        # loss config\n",
    "                        criterion=nn.CrossEntropyLoss,\n",
    "                        criterion__weight=class_weights,\n",
    "                        # hyperparams\n",
    "                        batch_size=32,\n",
    "                        lr=1e-4,\n",
    "                        optimizer__momentum=0.9,\n",
    "                        max_epochs=20,\n",
    "                        iterator_train__shuffle=True,  # Shuffle training data on each epoch\n",
    "                        callbacks=[\n",
    "                                # additional scores to observe\n",
    "                                EpochScoring(scoring='roc_auc', lower_is_better=False),\n",
    "                                # Early Stopping based on validation loss\n",
    "                                EarlyStopping(patience=3)\n",
    "                                ]\n",
    "                        ))))\n",
    "\n",
    "for _exp_name, _pipe in experiments:\n",
    "    print(f\"Fitting and evaluating {_exp_name}\")\n",
    "    cvscore = sklearn.model_selection.cross_val_score(_pipe, X=X, y=y, cv=5, \n",
    "        scoring=sklearn.metrics.make_scorer(sklearn.metrics.roc_auc_score))\n",
    "    print(F\"Mean ROC/AUC Score after 5-fold cross validation: {np.mean(cvscore)}\")\n",
    "    print()"
   ]
  },
  {
   "cell_type": "code",
   "execution_count": null,
   "metadata": {},
   "outputs": [],
   "source": [
    "# import matplotlib.pyplot as plt\n",
    "# plt.plot(clf.history[:, 'train_loss'], label='train_loss')\n",
    "# plt.plot(clf.history[:, 'valid_loss'], label='valid_loss')\n",
    "# plt.legend()\n",
    "# plt.show()"
   ]
  },
  {
   "cell_type": "code",
   "execution_count": null,
   "metadata": {},
   "outputs": [],
   "source": [
    "# sklearn.metrics.plot_confusion_matrix(pipe, X_test, y_test)"
   ]
  }
 ],
 "metadata": {
  "interpreter": {
   "hash": "58944ef3c9521f944c571869813b8a0eab109b60409d663c43d5f4fedff152be"
  },
  "kernelspec": {
   "display_name": "Python 3.8.2 ('.venv': venv)",
   "language": "python",
   "name": "python3"
  },
  "language_info": {
   "codemirror_mode": {
    "name": "ipython",
    "version": 3
   },
   "file_extension": ".py",
   "mimetype": "text/x-python",
   "name": "python",
   "nbconvert_exporter": "python",
   "pygments_lexer": "ipython3",
   "version": "3.8.2"
  },
  "orig_nbformat": 4
 },
 "nbformat": 4,
 "nbformat_minor": 2
}
