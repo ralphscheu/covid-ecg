{
 "cells": [
  {
   "cell_type": "code",
   "execution_count": 1,
   "metadata": {},
   "outputs": [],
   "source": [
    "import numpy as np\n",
    "import pandas as pd\n",
    "import covidecg.data.utils\n",
    "import sklearn.pipeline\n",
    "import sklearn.preprocessing\n",
    "from sklearn.model_selection import train_test_split\n",
    "import covidecg.models.mlp_models\n",
    "import skorch\n",
    "import torch\n",
    "import torch.nn as nn\n",
    "from sklearn.utils.class_weight import compute_class_weight\n",
    "from skorch.callbacks import EpochScoring, EarlyStopping\n",
    "import sklearn.svm\n",
    "import sklearn.metrics\n",
    "from sklearn.preprocessing import FunctionTransformer\n",
    "\n",
    "\n",
    "X, y = covidecg.data.utils.load_stress_ecg_runs('../data/interim/ecg_runs.csv', '../data/interim/ecg_runs')\n",
    "\n",
    "# pre-process targets\n",
    "label_encoder = sklearn.preprocessing.LabelEncoder()\n",
    "y = label_encoder.fit_transform(y).astype(np.int64)\n",
    "\n",
    "X_train, X_test, y_train, y_test = train_test_split(X, y, test_size=0.2, random_state=42, shuffle=True, stratify=y)\n",
    "\n",
    "# compute class weights for CrossEntropyLoss to mitigate imbalanced classes\n",
    "class_weights = compute_class_weight('balanced', classes=np.unique(y_train), y=y_train)\n",
    "class_weights = torch.tensor(class_weights, dtype=torch.float)"
   ]
  },
  {
   "cell_type": "code",
   "execution_count": 2,
   "metadata": {},
   "outputs": [
    {
     "data": {
      "text/plain": [
       "((856, 12, 5000), (856,))"
      ]
     },
     "execution_count": 2,
     "metadata": {},
     "output_type": "execute_result"
    }
   ],
   "source": [
    "X.shape, y.shape"
   ]
  },
  {
   "cell_type": "code",
   "execution_count": null,
   "metadata": {},
   "outputs": [],
   "source": []
  },
  {
   "cell_type": "code",
   "execution_count": null,
   "metadata": {},
   "outputs": [],
   "source": []
  },
  {
   "cell_type": "code",
   "execution_count": null,
   "metadata": {},
   "outputs": [],
   "source": []
  },
  {
   "cell_type": "code",
   "execution_count": 5,
   "metadata": {},
   "outputs": [
    {
     "name": "stdout",
     "output_type": "stream",
     "text": [
      "Fitting raw_signal__stress_ecg__all_leads__svm_linear\n",
      "Balanced accuracy: 0.513762855414398\n",
      "-----------------------------------------\n",
      "Fitting raw_signal__stress_ecg__all_leads__svm_polyn\n",
      "Balanced accuracy: 0.5\n",
      "-----------------------------------------\n",
      "Fitting raw_signal__stress_ecg__lead_ii__svm_linear\n",
      "Balanced accuracy: 0.4404113732607381\n",
      "-----------------------------------------\n",
      "Fitting raw_signal__stress_ecg__lead_ii__svm_polyn\n",
      "Balanced accuracy: 0.49122807017543857\n",
      "-----------------------------------------\n"
     ]
    },
    {
     "data": {
      "image/png": "[encoded data removed]",
      "text/plain": [
       "<Figure size 432x288 with 2 Axes>"
      ]
     },
     "metadata": {
      "needs_background": "light"
     },
     "output_type": "display_data"
    },
    {
     "data": {
      "image/png": "[encoded data removed]",
      "text/plain": [
       "<Figure size 432x288 with 2 Axes>"
      ]
     },
     "metadata": {
      "needs_background": "light"
     },
     "output_type": "display_data"
    },
    {
     "data": {
      "image/png": "[encoded data removed]",
      "text/plain": [
       "<Figure size 432x288 with 2 Axes>"
      ]
     },
     "metadata": {
      "needs_background": "light"
     },
     "output_type": "display_data"
    },
    {
     "data": {
      "image/png": "[encoded data removed]",
      "text/plain": [
       "<Figure size 432x288 with 2 Axes>"
      ]
     },
     "metadata": {
      "needs_background": "light"
     },
     "output_type": "display_data"
    }
   ],
   "source": [
    "fitted_models = {}\n",
    "\n",
    "# models to compare\n",
    "pipe_svm_linear = sklearn.pipeline.Pipeline([\n",
    "    ('flatten_leads', FunctionTransformer(covidecg.data.utils.flatten_leads)),\n",
    "    ('SVM (linear kernel)', sklearn.svm.SVC(kernel='linear')),\n",
    "])\n",
    "pipe_svm_poly = sklearn.pipeline.Pipeline([\n",
    "    ('flatten_leads', FunctionTransformer(covidecg.data.utils.flatten_leads)),\n",
    "    ('SVM (polyn. kernel)', sklearn.svm.SVC(kernel='poly')),\n",
    "])\n",
    "pipe_svm_linear_lead_ii = sklearn.pipeline.Pipeline([\n",
    "    ('select_lead_ii', covidecg.data.utils.EcgLeadSelector('MDC_ECG_LEAD_II')),\n",
    "    ('flatten_leads', FunctionTransformer(covidecg.data.utils.flatten_leads)),\n",
    "    ('SVM (linear kernel)', sklearn.svm.SVC(kernel='linear')),\n",
    "])\n",
    "\n",
    "experiments_sklearn = [\n",
    "    ('raw_signal__stress_ecg__all_leads__svm_linear', pipe_svm_linear),\n",
    "    ('raw_signal__stress_ecg__all_leads__svm_polyn', pipe_svm_poly),\n",
    "    ('raw_signal__stress_ecg__lead_ii__svm_linear', pipe_svm_linear_lead_ii),\n",
    "]\n",
    "experiments_sklearn.append(('raw_signal__stress_ecg__lead_ii__svm_polyn', \n",
    "    sklearn.pipeline.make_pipeline(\n",
    "        covidecg.data.utils.EcgLeadSelector('MDC_ECG_LEAD_II'), \n",
    "        FunctionTransformer(covidecg.data.utils.flatten_leads),\n",
    "        sklearn.svm.SVC(kernel='poly'))))\n",
    "\n",
    "for _exp_name, _pipe in experiments_sklearn:\n",
    "    # fit model\n",
    "    print(f\"Fitting {_exp_name}\")\n",
    "    _pipe.fit(X_train, y_train)\n",
    "    fitted_models[_exp_name] = _pipe\n",
    "    # evaluate model\n",
    "    y_pred = _pipe.predict(X_test)\n",
    "    print(\"Balanced accuracy:\", sklearn.metrics.balanced_accuracy_score(y_test, y_pred))\n",
    "    sklearn.metrics.ConfusionMatrixDisplay.from_predictions(y_test, y_pred)\n",
    "    print(\"-----------------------------------------\")"
   ]
  },
  {
   "cell_type": "code",
   "execution_count": 6,
   "metadata": {},
   "outputs": [
    {
     "name": "stdout",
     "output_type": "stream",
     "text": [
      "Fitting raw_signal__all_leads__mlp\n",
      "  epoch    roc_auc    train_loss    valid_acc    valid_loss     dur\n",
      "-------  ---------  ------------  -----------  ------------  ------\n",
      "      1     \u001b[36m0.4987\u001b[0m        \u001b[32m0.7604\u001b[0m       \u001b[35m0.6341\u001b[0m        \u001b[31m0.7721\u001b[0m  1.6622\n",
      "      2     0.4696        \u001b[32m0.4908\u001b[0m       0.4878        \u001b[31m0.7447\u001b[0m  1.1782\n",
      "      3     0.4968        \u001b[32m0.3811\u001b[0m       0.5854        \u001b[31m0.7402\u001b[0m  1.2075\n",
      "      4     0.4963        \u001b[32m0.3577\u001b[0m       0.5854        0.7404  1.2085\n",
      "      5     0.4916        \u001b[32m0.3527\u001b[0m       0.5366        \u001b[31m0.7398\u001b[0m  1.2028\n",
      "      6     \u001b[36m0.4990\u001b[0m        \u001b[32m0.3444\u001b[0m       0.5691        \u001b[31m0.7397\u001b[0m  1.2653\n",
      "      7     \u001b[36m0.5013\u001b[0m        \u001b[32m0.3428\u001b[0m       0.5854        0.7413  1.2367\n",
      "Stopping since valid_loss has not improved in the last 3 epochs.\n",
      "  epoch    roc_auc    train_loss    valid_acc    valid_loss     dur\n",
      "-------  ---------  ------------  -----------  ------------  ------\n",
      "      1     \u001b[36m0.4346\u001b[0m        \u001b[32m0.7425\u001b[0m       \u001b[35m0.5041\u001b[0m        \u001b[31m0.7495\u001b[0m  1.2434\n",
      "      2     \u001b[36m0.4360\u001b[0m        \u001b[32m0.4226\u001b[0m       0.4797        0.7567  1.2489\n",
      "      3     \u001b[36m0.4839\u001b[0m        \u001b[32m0.3646\u001b[0m       \u001b[35m0.5285\u001b[0m        0.7587  1.2703\n",
      "Stopping since valid_loss has not improved in the last 3 epochs.\n",
      "  epoch    roc_auc    train_loss    valid_acc    valid_loss     dur\n",
      "-------  ---------  ------------  -----------  ------------  ------\n",
      "      1     \u001b[36m0.4365\u001b[0m        \u001b[32m0.7392\u001b[0m       \u001b[35m0.3821\u001b[0m        \u001b[31m0.7576\u001b[0m  1.2146\n",
      "      2     \u001b[36m0.5146\u001b[0m        \u001b[32m0.4197\u001b[0m       \u001b[35m0.5772\u001b[0m        \u001b[31m0.7368\u001b[0m  1.2263\n",
      "      3     0.5045        \u001b[32m0.3647\u001b[0m       0.5285        \u001b[31m0.7327\u001b[0m  1.2173\n",
      "      4     0.5109        \u001b[32m0.3529\u001b[0m       0.5610        0.7359  1.2457\n",
      "      5     0.5128        \u001b[32m0.3486\u001b[0m       0.5447        0.7359  1.2053\n",
      "Stopping since valid_loss has not improved in the last 3 epochs.\n",
      "  epoch    roc_auc    train_loss    valid_acc    valid_loss     dur\n",
      "-------  ---------  ------------  -----------  ------------  ------\n",
      "      1     \u001b[36m0.5352\u001b[0m        \u001b[32m0.7457\u001b[0m       \u001b[35m0.3496\u001b[0m        \u001b[31m0.7503\u001b[0m  1.1937\n",
      "      2     \u001b[36m0.6428\u001b[0m        \u001b[32m0.4674\u001b[0m       \u001b[35m0.6098\u001b[0m        \u001b[31m0.6935\u001b[0m  1.2170\n",
      "      3     0.6166        \u001b[32m0.3719\u001b[0m       \u001b[35m0.6179\u001b[0m        \u001b[31m0.6904\u001b[0m  1.2160\n",
      "      4     0.6233        \u001b[32m0.3528\u001b[0m       0.5854        0.7066  1.2153\n",
      "      5     0.6132        \u001b[32m0.3460\u001b[0m       \u001b[35m0.6260\u001b[0m        0.6956  1.2173\n",
      "Stopping since valid_loss has not improved in the last 3 epochs.\n",
      "  epoch    roc_auc    train_loss    valid_acc    valid_loss     dur\n",
      "-------  ---------  ------------  -----------  ------------  ------\n",
      "      1     \u001b[36m0.5427\u001b[0m        \u001b[32m0.7381\u001b[0m       \u001b[35m0.6210\u001b[0m        \u001b[31m0.7359\u001b[0m  1.1902\n",
      "      2     0.5119        \u001b[32m0.4212\u001b[0m       0.5242        \u001b[31m0.7264\u001b[0m  1.1982\n",
      "      3     0.5224        \u001b[32m0.3621\u001b[0m       0.5726        0.7337  1.2013\n",
      "      4     0.5038        \u001b[32m0.3510\u001b[0m       0.5484        0.7378  1.1996\n",
      "Stopping since valid_loss has not improved in the last 3 epochs.\n",
      "  epoch    roc_auc    train_loss    valid_acc    valid_loss     dur\n",
      "-------  ---------  ------------  -----------  ------------  ------\n",
      "      1     \u001b[36m0.5052\u001b[0m        \u001b[32m0.7304\u001b[0m       \u001b[35m0.6452\u001b[0m        \u001b[31m0.7245\u001b[0m  1.4051\n",
      "      2     \u001b[36m0.5215\u001b[0m        \u001b[32m0.4289\u001b[0m       0.6129        \u001b[31m0.7197\u001b[0m  2.3672\n",
      "      3     0.5093        \u001b[32m0.3617\u001b[0m       0.5806        0.7222  12.4573\n",
      "      4     0.5142        \u001b[32m0.3459\u001b[0m       0.5887        0.7227  2.5170\n",
      "Stopping since valid_loss has not improved in the last 3 epochs.\n",
      "  epoch    roc_auc    train_loss    valid_acc    valid_loss     dur\n",
      "-------  ---------  ------------  -----------  ------------  ------\n",
      "      1     \u001b[36m0.4037\u001b[0m        \u001b[32m0.7084\u001b[0m       \u001b[35m0.3629\u001b[0m        \u001b[31m0.7652\u001b[0m  1.2788\n",
      "      2     \u001b[36m0.4743\u001b[0m        \u001b[32m0.4231\u001b[0m       \u001b[35m0.5968\u001b[0m        \u001b[31m0.7463\u001b[0m  1.2582\n",
      "      3     0.4678        \u001b[32m0.3634\u001b[0m       0.5081        \u001b[31m0.7435\u001b[0m  1.2543\n",
      "      4     \u001b[36m0.4774\u001b[0m        \u001b[32m0.3513\u001b[0m       0.5726        0.7458  1.2502\n",
      "      5     \u001b[36m0.4820\u001b[0m        \u001b[32m0.3445\u001b[0m       0.5806        0.7467  1.3063\n",
      "Stopping since valid_loss has not improved in the last 3 epochs.\n",
      "  epoch    roc_auc    train_loss    valid_acc    valid_loss     dur\n",
      "-------  ---------  ------------  -----------  ------------  ------\n",
      "      1     \u001b[36m0.6173\u001b[0m        \u001b[32m0.7243\u001b[0m       \u001b[35m0.6048\u001b[0m        \u001b[31m0.6748\u001b[0m  1.1789\n",
      "      2     0.6144        \u001b[32m0.4104\u001b[0m       0.5645        0.6845  1.2430\n",
      "      3     \u001b[36m0.6173\u001b[0m        \u001b[32m0.3599\u001b[0m       0.5645        0.6846  1.2991\n",
      "Stopping since valid_loss has not improved in the last 3 epochs.\n",
      "  epoch    roc_auc    train_loss    valid_acc    valid_loss     dur\n",
      "-------  ---------  ------------  -----------  ------------  ------\n",
      "      1     \u001b[36m0.5295\u001b[0m        \u001b[32m0.7416\u001b[0m       \u001b[35m0.6129\u001b[0m        \u001b[31m0.7151\u001b[0m  1.1838\n",
      "      2     0.4884        \u001b[32m0.4280\u001b[0m       0.5484        0.7273  1.2084\n",
      "      3     0.5171        \u001b[32m0.3718\u001b[0m       0.5968        0.7285  1.2571\n",
      "Stopping since valid_loss has not improved in the last 3 epochs.\n",
      "  epoch    roc_auc    train_loss    valid_acc    valid_loss     dur\n",
      "-------  ---------  ------------  -----------  ------------  ------\n",
      "      1     \u001b[36m0.4968\u001b[0m        \u001b[32m0.7339\u001b[0m       \u001b[35m0.5323\u001b[0m        \u001b[31m0.7225\u001b[0m  1.1832\n",
      "      2     \u001b[36m0.5209\u001b[0m        \u001b[32m0.4249\u001b[0m       \u001b[35m0.5645\u001b[0m        0.7283  1.1939\n",
      "      3     \u001b[36m0.5219\u001b[0m        \u001b[32m0.3665\u001b[0m       \u001b[35m0.5806\u001b[0m        0.7272  1.2070\n",
      "Stopping since valid_loss has not improved in the last 3 epochs.\n"
     ]
    }
   ],
   "source": [
    "# build PyTorch model in skorch wrapper\n",
    "clf = skorch.NeuralNetClassifier(\n",
    "    module=covidecg.models.mlp_models.MLP,\n",
    "    # topology config\n",
    "    module__input_size=X_train[0].size,  # number of features in flattened sample\n",
    "    module__hidden_size=1000,\n",
    "    # loss config\n",
    "    criterion=nn.CrossEntropyLoss,\n",
    "    criterion__weight=class_weights,\n",
    "    # hyperparams\n",
    "    batch_size=32,\n",
    "    lr=1e-4,\n",
    "    optimizer__momentum=0.9,\n",
    "    max_epochs=10,\n",
    "    iterator_train__shuffle=True,  # Shuffle training data on each epoch\n",
    "    callbacks=[\n",
    "        # additional scores to observe\n",
    "        EpochScoring(scoring='roc_auc', lower_is_better=False),\n",
    "        # Early Stopping based on validation loss\n",
    "        EarlyStopping(patience=3)\n",
    "        ]\n",
    ")\n",
    "\n",
    "experiments_torch = []\n",
    "fitted_models_torch = {}\n",
    "\n",
    "experiments_torch.append(('raw_signal__all_leads__mlp',\n",
    "    sklearn.pipeline.make_pipeline(\n",
    "        FunctionTransformer(covidecg.data.utils.flatten_leads),\n",
    "        clf)))\n",
    "\n",
    "# experiments_torch.append(('raw_signal__lead_ii__mlp',\n",
    "#     sklearn.pipeline.make_pipeline(\n",
    "#         FunctionTransformer(covidecg.data.utils.flatten_leads),\n",
    "#         clf)))\n",
    "\n",
    "from sklearn.model_selection import cross_val_score\n",
    "# train the model\n",
    "for _exp_name, _pipe in experiments_torch:\n",
    "    print(f\"Fitting {_exp_name}\")\n",
    "    cvscore = cross_val_score(_pipe, X=X_train, y=y_train, cv=10, scoring=sklearn.metrics.make_scorer(sklearn.metrics.roc_auc_score))\n",
    "    # fitted_models_torch[_exp_name] = _pipe\n",
    "\n",
    "print(\"ROC/AUC Score:\", cvscore.mean())"
   ]
  },
  {
   "cell_type": "code",
   "execution_count": 9,
   "metadata": {},
   "outputs": [
    {
     "name": "stdout",
     "output_type": "stream",
     "text": [
      "ROC/AUC Score: 0.4730566534914361\n"
     ]
    }
   ],
   "source": [
    "print(\"ROC/AUC Score:\", cvscore.mean())"
   ]
  }
 ],
 "metadata": {
  "interpreter": {
   "hash": "58944ef3c9521f944c571869813b8a0eab109b60409d663c43d5f4fedff152be"
  },
  "kernelspec": {
   "display_name": "Python 3.8.2 ('.venv': venv)",
   "language": "python",
   "name": "python3"
  },
  "language_info": {
   "codemirror_mode": {
    "name": "ipython",
    "version": 3
   },
   "file_extension": ".py",
   "mimetype": "text/x-python",
   "name": "python",
   "nbconvert_exporter": "python",
   "pygments_lexer": "ipython3",
   "version": "3.8.2"
  },
  "orig_nbformat": 4
 },
 "nbformat": 4,
 "nbformat_minor": 2
}
