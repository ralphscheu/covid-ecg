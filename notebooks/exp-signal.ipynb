{
 "cells": [
  {
   "cell_type": "code",
   "execution_count": 4,
   "metadata": {},
   "outputs": [
    {
     "name": "stdout",
     "output_type": "stream",
     "text": [
      "0: covid31544_run20210817130741.521\n",
      "10: covid30818_run20210713132343.746\n"
     ]
    }
   ],
   "source": [
    "import numpy as np\n",
    "import pandas as pd\n",
    "import covidecg.data.utils\n",
    "import sklearn.pipeline\n",
    "import sklearn.preprocessing\n",
    "from sklearn.model_selection import train_test_split\n",
    "import covidecg.models.mlp_models\n",
    "import skorch\n",
    "import torch\n",
    "import torch.nn as nn\n",
    "from sklearn.utils.class_weight import compute_class_weight\n",
    "from skorch.callbacks import EpochScoring, EarlyStopping\n",
    "import sklearn.svm\n",
    "import sklearn.metrics\n",
    "from sklearn.preprocessing import FunctionTransformer\n",
    "\n",
    "\n",
    "X, y = covidecg.data.utils.load_stress_ecg_runs('../data/interim/ecg_runs.csv', '../data/interim/ecg_runs')\n",
    "\n",
    "# pre-process targets\n",
    "label_encoder = sklearn.preprocessing.LabelEncoder()\n",
    "y = label_encoder.fit_transform(y).astype(np.int64)\n",
    "\n",
    "X_train, X_test, y_train, y_test = train_test_split(X, y, test_size=0.2, random_state=42, shuffle=True, stratify=y)\n",
    "\n",
    "# compute class weights for CrossEntropyLoss to mitigate imbalanced classes\n",
    "class_weights = compute_class_weight('balanced', classes=np.unique(y_train), y=y_train)\n",
    "class_weights = torch.tensor(class_weights, dtype=torch.float)"
   ]
  },
  {
   "cell_type": "code",
   "execution_count": 6,
   "metadata": {},
   "outputs": [
    {
     "data": {
      "text/plain": [
       "((857, 12, 5000), (857,))"
      ]
     },
     "execution_count": 6,
     "metadata": {},
     "output_type": "execute_result"
    }
   ],
   "source": [
    "X.shape, y.shape"
   ]
  },
  {
   "cell_type": "code",
   "execution_count": null,
   "metadata": {},
   "outputs": [],
   "source": []
  },
  {
   "cell_type": "code",
   "execution_count": null,
   "metadata": {},
   "outputs": [],
   "source": []
  },
  {
   "cell_type": "code",
   "execution_count": null,
   "metadata": {},
   "outputs": [],
   "source": []
  },
  {
   "cell_type": "code",
   "execution_count": 10,
   "metadata": {},
   "outputs": [
    {
     "name": "stdout",
     "output_type": "stream",
     "text": [
      "Fitting raw_signal__stress_ecg__all_leads__svm_linear\n",
      "Balanced accuracy: 0.49019607843137253\n",
      "-----------------------------------------\n",
      "Fitting raw_signal__stress_ecg__all_leads__svm_polyn\n",
      "Balanced accuracy: 0.5\n",
      "-----------------------------------------\n",
      "Fitting raw_signal__stress_ecg__lead_ii__svm_linear\n",
      "Balanced accuracy: 0.4529411764705883\n",
      "-----------------------------------------\n",
      "Fitting raw_signal__stress_ecg__lead_ii__svm_polyn\n",
      "Balanced accuracy: 0.5\n",
      "-----------------------------------------\n"
     ]
    },
    {
     "data": {
      "image/png": "[encoded data removed]",
      "text/plain": [
       "<Figure size 432x288 with 2 Axes>"
      ]
     },
     "metadata": {
      "needs_background": "light"
     },
     "output_type": "display_data"
    },
    {
     "data": {
      "image/png": "[encoded data removed]",
      "text/plain": [
       "<Figure size 432x288 with 2 Axes>"
      ]
     },
     "metadata": {
      "needs_background": "light"
     },
     "output_type": "display_data"
    },
    {
     "data": {
      "image/png": "[encoded data removed]",
      "text/plain": [
       "<Figure size 432x288 with 2 Axes>"
      ]
     },
     "metadata": {
      "needs_background": "light"
     },
     "output_type": "display_data"
    },
    {
     "data": {
      "image/png": "[encoded data removed]",
      "text/plain": [
       "<Figure size 432x288 with 2 Axes>"
      ]
     },
     "metadata": {
      "needs_background": "light"
     },
     "output_type": "display_data"
    }
   ],
   "source": [
    "fitted_models = {}\n",
    "\n",
    "# models to compare\n",
    "pipe_svm_linear = sklearn.pipeline.Pipeline([\n",
    "    ('flatten_leads', FunctionTransformer(covidecg.data.utils.flatten_leads)),\n",
    "    ('SVM (linear kernel)', sklearn.svm.SVC(kernel='linear')),\n",
    "])\n",
    "pipe_svm_poly = sklearn.pipeline.Pipeline([\n",
    "    ('flatten_leads', FunctionTransformer(covidecg.data.utils.flatten_leads)),\n",
    "    ('SVM (polyn. kernel)', sklearn.svm.SVC(kernel='poly')),\n",
    "])\n",
    "pipe_svm_linear_lead_ii = sklearn.pipeline.Pipeline([\n",
    "    ('select_lead_ii', covidecg.data.utils.EcgLeadSelector('MDC_ECG_LEAD_II')),\n",
    "    ('SVM (linear kernel)', sklearn.svm.SVC(kernel='linear')),\n",
    "])\n",
    "\n",
    "experiments_sklearn = [\n",
    "    ('raw_signal__stress_ecg__all_leads__svm_linear', pipe_svm_linear),\n",
    "    ('raw_signal__stress_ecg__all_leads__svm_polyn', pipe_svm_poly),\n",
    "    ('raw_signal__stress_ecg__lead_ii__svm_linear', pipe_svm_linear_lead_ii),\n",
    "]\n",
    "experiments_sklearn.append(('raw_signal__stress_ecg__lead_ii__svm_polyn', \n",
    "    sklearn.pipeline.make_pipeline(\n",
    "        covidecg.data.utils.EcgLeadSelector('MDC_ECG_LEAD_II'), \n",
    "        sklearn.svm.SVC(kernel='poly'))))\n",
    "\n",
    "for _exp_name, _pipe in experiments_sklearn:\n",
    "    # fit model\n",
    "    print(f\"Fitting {_exp_name}\")\n",
    "    _pipe.fit(X_train, y_train)\n",
    "    fitted_models[_exp_name] = _pipe\n",
    "    # evaluate model\n",
    "    y_pred = _pipe.predict(X_test)\n",
    "    print(\"Balanced accuracy:\", sklearn.metrics.balanced_accuracy_score(y_test, y_pred))\n",
    "    sklearn.metrics.ConfusionMatrixDisplay.from_predictions(y_test, y_pred)\n",
    "    print(\"-----------------------------------------\")"
   ]
  },
  {
   "cell_type": "code",
   "execution_count": 7,
   "metadata": {},
   "outputs": [
    {
     "name": "stdout",
     "output_type": "stream",
     "text": [
      "Fitting raw_signal__all_leads__mlp\n",
      "  epoch    roc_auc    train_loss    valid_acc    valid_loss     dur\n",
      "-------  ---------  ------------  -----------  ------------  ------\n",
      "      1     \u001b[36m0.4170\u001b[0m        \u001b[32m0.7208\u001b[0m       \u001b[35m0.3710\u001b[0m        \u001b[31m0.7616\u001b[0m  1.4589\n",
      "      2     \u001b[36m0.4768\u001b[0m        \u001b[32m0.4208\u001b[0m       \u001b[35m0.5968\u001b[0m        0.7686  1.1317\n",
      "      3     0.4483        \u001b[32m0.3646\u001b[0m       0.5565        \u001b[31m0.7607\u001b[0m  1.1418\n",
      "      4     0.4579        \u001b[32m0.3477\u001b[0m       \u001b[35m0.6129\u001b[0m        0.7619  1.2512\n",
      "      5     0.4640        \u001b[32m0.3446\u001b[0m       0.6048        0.7646  1.2198\n",
      "Stopping since valid_loss has not improved in the last 3 epochs.\n",
      "  epoch    roc_auc    train_loss    valid_acc    valid_loss     dur\n",
      "-------  ---------  ------------  -----------  ------------  ------\n",
      "      1     \u001b[36m0.4114\u001b[0m        \u001b[32m0.7124\u001b[0m       \u001b[35m0.4113\u001b[0m        \u001b[31m0.7620\u001b[0m  1.3541\n",
      "      2     \u001b[36m0.4318\u001b[0m        \u001b[32m0.4069\u001b[0m       \u001b[35m0.5081\u001b[0m        0.7741  1.2416\n",
      "      3     0.4135        \u001b[32m0.3553\u001b[0m       0.4516        0.7729  1.2271\n",
      "Stopping since valid_loss has not improved in the last 3 epochs.\n",
      "  epoch    roc_auc    train_loss    valid_acc    valid_loss     dur\n",
      "-------  ---------  ------------  -----------  ------------  ------\n",
      "      1     \u001b[36m0.5404\u001b[0m        \u001b[32m0.7526\u001b[0m       \u001b[35m0.5806\u001b[0m        \u001b[31m0.7194\u001b[0m  1.2672\n",
      "      2     \u001b[36m0.5438\u001b[0m        \u001b[32m0.4072\u001b[0m       \u001b[35m0.5887\u001b[0m        0.7407  1.2430\n",
      "      3     0.5061        \u001b[32m0.3621\u001b[0m       0.5403        0.7353  1.2451\n",
      "Stopping since valid_loss has not improved in the last 3 epochs.\n",
      "  epoch    roc_auc    train_loss    valid_acc    valid_loss     dur\n",
      "-------  ---------  ------------  -----------  ------------  ------\n",
      "      1     \u001b[36m0.4030\u001b[0m        \u001b[32m0.7460\u001b[0m       \u001b[35m0.4516\u001b[0m        \u001b[31m0.7781\u001b[0m  1.2322\n",
      "      2     \u001b[36m0.4126\u001b[0m        \u001b[32m0.4383\u001b[0m       \u001b[35m0.5000\u001b[0m        0.7962  1.2340\n",
      "      3     0.4016        \u001b[32m0.3667\u001b[0m       0.4597        0.7876  1.2636\n",
      "Stopping since valid_loss has not improved in the last 3 epochs.\n",
      "  epoch    roc_auc    train_loss    valid_acc    valid_loss     dur\n",
      "-------  ---------  ------------  -----------  ------------  ------\n",
      "      1     \u001b[36m0.4617\u001b[0m        \u001b[32m0.7312\u001b[0m       \u001b[35m0.5081\u001b[0m        \u001b[31m0.7545\u001b[0m  1.2288\n",
      "      2     \u001b[36m0.4968\u001b[0m        \u001b[32m0.4056\u001b[0m       \u001b[35m0.5565\u001b[0m        \u001b[31m0.7517\u001b[0m  1.1697\n",
      "      3     \u001b[36m0.5195\u001b[0m        \u001b[32m0.3607\u001b[0m       0.5484        0.7677  1.2596\n",
      "      4     0.5087        \u001b[32m0.3494\u001b[0m       0.5323        0.7582  1.2602\n",
      "Stopping since valid_loss has not improved in the last 3 epochs.\n",
      "  epoch    roc_auc    train_loss    valid_acc    valid_loss     dur\n",
      "-------  ---------  ------------  -----------  ------------  ------\n",
      "      1     \u001b[36m0.5784\u001b[0m        \u001b[32m0.8006\u001b[0m       \u001b[35m0.6613\u001b[0m        \u001b[31m0.7976\u001b[0m  1.2329\n",
      "      2     0.4294        \u001b[32m0.7260\u001b[0m       0.4435        \u001b[31m0.7483\u001b[0m  1.2483\n",
      "      3     0.4919        \u001b[32m0.5129\u001b[0m       0.5806        0.7664  1.2628\n",
      "      4     0.4742        \u001b[32m0.3842\u001b[0m       0.5726        0.7643  1.2571\n",
      "Stopping since valid_loss has not improved in the last 3 epochs.\n",
      "  epoch    roc_auc    train_loss    valid_acc    valid_loss     dur\n",
      "-------  ---------  ------------  -----------  ------------  ------\n",
      "      1     \u001b[36m0.5004\u001b[0m        \u001b[32m0.7336\u001b[0m       \u001b[35m0.4194\u001b[0m        \u001b[31m0.7439\u001b[0m  1.1984\n",
      "      2     \u001b[36m0.5574\u001b[0m        \u001b[32m0.4321\u001b[0m       \u001b[35m0.6210\u001b[0m        0.7522  1.2036\n",
      "      3     0.4681        \u001b[32m0.3651\u001b[0m       0.5323        0.7550  1.2033\n",
      "      4     0.5048        \u001b[32m0.3516\u001b[0m       0.5968        \u001b[31m0.7414\u001b[0m  1.2146\n",
      "      5     0.5104        \u001b[32m0.3449\u001b[0m       0.6129        0.7423  1.2189\n",
      "      6     0.5028        \u001b[32m0.3441\u001b[0m       0.5968        0.7441  1.2629\n",
      "Stopping since valid_loss has not improved in the last 3 epochs.\n",
      "  epoch    roc_auc    train_loss    valid_acc    valid_loss     dur\n",
      "-------  ---------  ------------  -----------  ------------  ------\n",
      "      1     \u001b[36m0.4226\u001b[0m        \u001b[32m0.7376\u001b[0m       \u001b[35m0.3468\u001b[0m        \u001b[31m0.7692\u001b[0m  1.2062\n",
      "      2     \u001b[36m0.4890\u001b[0m        \u001b[32m0.4575\u001b[0m       \u001b[35m0.5323\u001b[0m        \u001b[31m0.7386\u001b[0m  1.2574\n",
      "      3     \u001b[36m0.5037\u001b[0m        \u001b[32m0.3639\u001b[0m       \u001b[35m0.5726\u001b[0m        0.7485  1.2055\n",
      "      4     0.5001        \u001b[32m0.3402\u001b[0m       0.5726        0.7489  1.2142\n",
      "Stopping since valid_loss has not improved in the last 3 epochs.\n",
      "  epoch    roc_auc    train_loss    valid_acc    valid_loss     dur\n",
      "-------  ---------  ------------  -----------  ------------  ------\n",
      "      1     \u001b[36m0.4240\u001b[0m        \u001b[32m0.7400\u001b[0m       \u001b[35m0.4435\u001b[0m        \u001b[31m0.7662\u001b[0m  1.1855\n",
      "      2     0.4070        \u001b[32m0.4189\u001b[0m       \u001b[35m0.4758\u001b[0m        0.7865  1.2125\n",
      "      3     0.4088        \u001b[32m0.3649\u001b[0m       \u001b[35m0.5242\u001b[0m        0.7883  1.2163\n",
      "Stopping since valid_loss has not improved in the last 3 epochs.\n",
      "  epoch    roc_auc    train_loss    valid_acc    valid_loss     dur\n",
      "-------  ---------  ------------  -----------  ------------  ------\n",
      "      1     \u001b[36m0.4711\u001b[0m        \u001b[32m0.7401\u001b[0m       \u001b[35m0.3952\u001b[0m        \u001b[31m0.7463\u001b[0m  1.2133\n",
      "      2     \u001b[36m0.5184\u001b[0m        \u001b[32m0.4177\u001b[0m       \u001b[35m0.5645\u001b[0m        0.7467  1.2791\n",
      "      3     0.4963        \u001b[32m0.3601\u001b[0m       0.5565        \u001b[31m0.7383\u001b[0m  1.2779\n",
      "      4     0.5051        \u001b[32m0.3498\u001b[0m       0.5484        0.7492  1.2330\n",
      "      5     0.5054        \u001b[32m0.3459\u001b[0m       0.5484        0.7521  1.2559\n",
      "Stopping since valid_loss has not improved in the last 3 epochs.\n"
     ]
    }
   ],
   "source": [
    "# build PyTorch model in skorch wrapper\n",
    "clf = skorch.NeuralNetClassifier(\n",
    "    module=covidecg.models.mlp_models.MLP,\n",
    "    # topology config\n",
    "    module__input_size=X_train[0].size,  # number of features in flattened sample\n",
    "    module__hidden_size=1000,\n",
    "    # loss config\n",
    "    criterion=nn.CrossEntropyLoss,\n",
    "    criterion__weight=class_weights,\n",
    "    # hyperparams\n",
    "    batch_size=32,\n",
    "    lr=1e-4,\n",
    "    optimizer__momentum=0.9,\n",
    "    max_epochs=10,\n",
    "    iterator_train__shuffle=True,  # Shuffle training data on each epoch\n",
    "    callbacks=[\n",
    "        # additional scores to observe\n",
    "        EpochScoring(scoring='roc_auc', lower_is_better=False),\n",
    "        # Early Stopping based on validation loss\n",
    "        EarlyStopping(patience=3)\n",
    "        ]\n",
    ")\n",
    "\n",
    "experiments_torch = []\n",
    "fitted_models_torch = {}\n",
    "\n",
    "experiments_torch.append(('raw_signal__all_leads__mlp',\n",
    "    sklearn.pipeline.make_pipeline(\n",
    "        FunctionTransformer(covidecg.data.utils.flatten_leads),\n",
    "        clf)))\n",
    "\n",
    "# experiments_torch.append(('raw_signal__lead_ii__mlp',\n",
    "#     sklearn.pipeline.make_pipeline(\n",
    "#         FunctionTransformer(covidecg.data.utils.flatten_leads),\n",
    "#         clf)))\n",
    "\n",
    "from sklearn.model_selection import cross_val_score\n",
    "# train the model\n",
    "for _exp_name, _pipe in experiments_torch:\n",
    "    print(f\"Fitting {_exp_name}\")\n",
    "    cvscore = cross_val_score(_pipe, X=X_train, y=y_train, cv=10, scoring=sklearn.metrics.make_scorer(sklearn.metrics.roc_auc_score))\n",
    "    # fitted_models_torch[_exp_name] = _pipe"
   ]
  },
  {
   "cell_type": "code",
   "execution_count": 10,
   "metadata": {},
   "outputs": [
    {
     "data": {
      "text/plain": [
       "array([0.41304348, 0.48913043, 0.54347826, 0.4673913 , 0.51086957,\n",
       "       0.42588933, 0.45169082, 0.47777778, 0.53043478, 0.42898551])"
      ]
     },
     "execution_count": 10,
     "metadata": {},
     "output_type": "execute_result"
    }
   ],
   "source": [
    "cvscore"
   ]
  },
  {
   "cell_type": "code",
   "execution_count": 38,
   "metadata": {},
   "outputs": [
    {
     "ename": "TypeError",
     "evalue": "'NoneType' object is not subscriptable",
     "output_type": "error",
     "traceback": [
      "\u001b[0;31m---------------------------------------------------------------------------\u001b[0m",
      "\u001b[0;31mTypeError\u001b[0m                                 Traceback (most recent call last)",
      "\u001b[1;32m/mnt/md0/user/scheuererra68323/covid-ecg/notebooks/exp-signal.ipynb Cell 5'\u001b[0m in \u001b[0;36m<cell line: 2>\u001b[0;34m()\u001b[0m\n\u001b[1;32m      <a href='vscode-notebook-cell://ssh-remote%2Bml0/mnt/md0/user/scheuererra68323/covid-ecg/notebooks/exp-signal.ipynb#ch0000003vscode-remote?line=0'>1</a>\u001b[0m \u001b[39mimport\u001b[39;00m \u001b[39mmatplotlib\u001b[39;00m\u001b[39m.\u001b[39;00m\u001b[39mpyplot\u001b[39;00m \u001b[39mas\u001b[39;00m \u001b[39mplt\u001b[39;00m\n\u001b[0;32m----> <a href='vscode-notebook-cell://ssh-remote%2Bml0/mnt/md0/user/scheuererra68323/covid-ecg/notebooks/exp-signal.ipynb#ch0000003vscode-remote?line=1'>2</a>\u001b[0m plt\u001b[39m.\u001b[39mplot(clf\u001b[39m.\u001b[39;49mhistory[:, \u001b[39m'\u001b[39;49m\u001b[39mtrain_loss\u001b[39;49m\u001b[39m'\u001b[39;49m], label\u001b[39m=\u001b[39m\u001b[39m'\u001b[39m\u001b[39mtrain_loss\u001b[39m\u001b[39m'\u001b[39m)\n\u001b[1;32m      <a href='vscode-notebook-cell://ssh-remote%2Bml0/mnt/md0/user/scheuererra68323/covid-ecg/notebooks/exp-signal.ipynb#ch0000003vscode-remote?line=2'>3</a>\u001b[0m plt\u001b[39m.\u001b[39mplot(clf\u001b[39m.\u001b[39mhistory[:, \u001b[39m'\u001b[39m\u001b[39mvalid_loss\u001b[39m\u001b[39m'\u001b[39m], label\u001b[39m=\u001b[39m\u001b[39m'\u001b[39m\u001b[39mvalid_loss\u001b[39m\u001b[39m'\u001b[39m)\n\u001b[1;32m      <a href='vscode-notebook-cell://ssh-remote%2Bml0/mnt/md0/user/scheuererra68323/covid-ecg/notebooks/exp-signal.ipynb#ch0000003vscode-remote?line=3'>4</a>\u001b[0m plt\u001b[39m.\u001b[39mlegend()\n",
      "\u001b[0;31mTypeError\u001b[0m: 'NoneType' object is not subscriptable"
     ]
    }
   ],
   "source": [
    "import matplotlib.pyplot as plt\n",
    "plt.plot(clf.history[:, 'train_loss'], label='train_loss')\n",
    "plt.plot(clf.history[:, 'valid_loss'], label='valid_loss')\n",
    "plt.legend()\n",
    "plt.show()"
   ]
  },
  {
   "cell_type": "code",
   "execution_count": 33,
   "metadata": {},
   "outputs": [
    {
     "name": "stderr",
     "output_type": "stream",
     "text": [
      "/home/scheralph/source/covid-ecg/.venv/lib/python3.10/site-packages/sklearn/utils/deprecation.py:87: FutureWarning: Function plot_confusion_matrix is deprecated; Function `plot_confusion_matrix` is deprecated in 1.0 and will be removed in 1.2. Use one of the class methods: ConfusionMatrixDisplay.from_predictions or ConfusionMatrixDisplay.from_estimator.\n",
      "  warnings.warn(msg, category=FutureWarning)\n"
     ]
    },
    {
     "data": {
      "text/plain": [
       "<sklearn.metrics._plot.confusion_matrix.ConfusionMatrixDisplay at 0x7ff646e19270>"
      ]
     },
     "execution_count": 33,
     "metadata": {},
     "output_type": "execute_result"
    },
    {
     "data": {
      "image/png": "[encoded data removed]",
      "text/plain": [
       "<Figure size 432x288 with 2 Axes>"
      ]
     },
     "metadata": {
      "needs_background": "light"
     },
     "output_type": "display_data"
    }
   ],
   "source": [
    "sklearn.metrics.plot_confusion_matrix(pipe, X_test, y_test)"
   ]
  }
 ],
 "metadata": {
  "interpreter": {
   "hash": "58944ef3c9521f944c571869813b8a0eab109b60409d663c43d5f4fedff152be"
  },
  "kernelspec": {
   "display_name": "Python 3.8.2 ('.venv': venv)",
   "language": "python",
   "name": "python3"
  },
  "language_info": {
   "codemirror_mode": {
    "name": "ipython",
    "version": 3
   },
   "file_extension": ".py",
   "mimetype": "text/x-python",
   "name": "python",
   "nbconvert_exporter": "python",
   "pygments_lexer": "ipython3",
   "version": "3.8.2"
  },
  "orig_nbformat": 4
 },
 "nbformat": 4,
 "nbformat_minor": 2
}
