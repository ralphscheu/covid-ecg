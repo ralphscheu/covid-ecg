{
 "cells": [
  {
   "cell_type": "code",
   "execution_count": 1,
   "id": "ea132103-cf9c-47d0-a483-cf2d7cee9335",
   "metadata": {},
   "outputs": [],
   "source": [
    "import warnings\n",
    "warnings.filterwarnings('ignore')"
   ]
  },
  {
   "cell_type": "code",
   "execution_count": 9,
   "id": "c971e6c0-3d2c-42fb-8ce9-8e16e6379ce0",
   "metadata": {},
   "outputs": [],
   "source": [
    "%matplotlib inline\n",
    "import heartpy as hp\n",
    "import xml.etree.cElementTree as ET\n",
    "import pathlib\n",
    "from datetime import datetime\n",
    "import pprint\n",
    "pp = pprint.PrettyPrinter(indent=4)"
   ]
  },
  {
   "cell_type": "code",
   "execution_count": 7,
   "id": "2db5fe36-d2f0-4ef7-8ea2-f6bb01c162e1",
   "metadata": {},
   "outputs": [],
   "source": [
    "namespaces = {'': 'urn:hl7-org:v3'}\n",
    "\n",
    "datetime_format = '%Y%m%d%H%M%S.%f'"
   ]
  },
  {
   "cell_type": "code",
   "execution_count": 8,
   "id": "f031c649-ebfc-4570-ba82-c7c11369c6ac",
   "metadata": {},
   "outputs": [],
   "source": [
    "def get_data_from_xml(file, out_path, visualize=False):\n",
    "    ecg = {}\n",
    "    \n",
    "    file_name_split = file.name.split('-')\n",
    "    ecg['id'] = file_name_split[0]\n",
    "    ecg['type'] = file_name_split[-2]\n",
    "    \n",
    "    tree = ET.parse(file)\n",
    "    root = tree.getroot()\n",
    "    \n",
    "    effectiveTimeLow = root.find('effectiveTime/low', namespaces).get('value')\n",
    "    date_time_obj = datetime.strptime(effectiveTimeLow, datetime_format)\n",
    "    ecg['effectiveTimeLow'] = date_time_obj\n",
    "    \n",
    "    effectiveTimeHigh = root.find('effectiveTime/high', namespaces).get('value')\n",
    "    date_time_obj = datetime.strptime(effectiveTimeHigh, datetime_format)\n",
    "    ecg['effectiveTimeHigh'] = date_time_obj\n",
    "    \n",
    "    # ECG data\n",
    "    series = root.findall('component/series', namespaces)\n",
    "    for s in series:\n",
    "        effectiveTimeLow = s.find('effectiveTime/low', namespaces).get('value')\n",
    "        effectiveTimeHigh = s.find('effectiveTime/high', namespaces).get('value')\n",
    "        sequenceSet = s.find('component/sequenceSet', namespaces)\n",
    "        # TODO: components in sequenceSet: leads\n",
    "        digits = sequenceSet.find('component/sequence/value/digits', namespaces)\n",
    "        \n",
    "        with open(f'{out_path}/{file.name}_{effectiveTimeLow}_{effectiveTimeHigh}.txt', 'w') as f:\n",
    "            f.write(digits.text)\n",
    "            \n",
    "        if visualize == True:\n",
    "            visualize_ecg(f'{out_path}/{file.name}_{effectiveTimeLow}_{effectiveTimeHigh}.txt', title=file.name)\n",
    "            \n",
    "    return ecg"
   ]
  },
  {
   "cell_type": "markdown",
   "id": "020e3444-9cc2-4cbe-99b5-9a640af05d55",
   "metadata": {},
   "source": [
    "### Post Covid Patients"
   ]
  },
  {
   "cell_type": "code",
   "execution_count": 139,
   "id": "2d1cec4e-152d-4844-9d24-c15c1ac4c553",
   "metadata": {},
   "outputs": [],
   "source": [
    "xml_folder=\"ExportPostCovid\"\n",
    "files = list(pathlib.Path(xml_folder).glob('*.xml'))\n",
    "ecg_files_path = 'ecgs_post_covid/'\n",
    "ecgs = []\n",
    "\n",
    "\n",
    "for file in files:\n",
    "    ecg = get_data_from_xml(file, ecg_files_path)\n",
    "    ecgs.append(ecg)"
   ]
  },
  {
   "cell_type": "code",
   "execution_count": 130,
   "id": "5c586237-f5f6-41c4-8037-056340969787",
   "metadata": {},
   "outputs": [
    {
     "name": "stdout",
     "output_type": "stream",
     "text": [
      "{   'effectiveTimeHigh': datetime.datetime(2015, 11, 26, 8, 56, 21),\n",
      "    'effectiveTimeLow': datetime.datetime(2015, 11, 26, 8, 56, 10, 903000),\n",
      "    'id': '7010',\n",
      "    'type': 'Ruhe'}\n",
      "{   'effectiveTimeHigh': datetime.datetime(2021, 10, 26, 9, 29, 50),\n",
      "    'effectiveTimeLow': datetime.datetime(2021, 10, 26, 9, 13, 45, 937000),\n",
      "    'id': '17849',\n",
      "    'type': 'Belastungs'}\n",
      "{   'effectiveTimeHigh': datetime.datetime(2021, 11, 19, 8, 23, 51),\n",
      "    'effectiveTimeLow': datetime.datetime(2021, 11, 19, 8, 13, 55, 150000),\n",
      "    'id': '32243',\n",
      "    'type': 'Belastungs'}\n",
      "{   'effectiveTimeHigh': datetime.datetime(2021, 12, 1, 14, 38, 25),\n",
      "    'effectiveTimeLow': datetime.datetime(2021, 12, 1, 14, 38, 14, 803000),\n",
      "    'id': '32293',\n",
      "    'type': 'Ruhe'}\n",
      "{   'effectiveTimeHigh': datetime.datetime(2017, 10, 25, 10, 40, 14),\n",
      "    'effectiveTimeLow': datetime.datetime(2017, 10, 25, 10, 24, 3, 247000),\n",
      "    'id': '17031',\n",
      "    'type': 'Belastungs'}\n"
     ]
    }
   ],
   "source": [
    "for i in range(5):\n",
    "    pp.pprint(ecgs[i])"
   ]
  },
  {
   "cell_type": "markdown",
   "id": "b564c7fb-9ce3-459d-aa94-e3a43b0b3fdc",
   "metadata": {},
   "source": [
    "### Covid Patients"
   ]
  },
  {
   "cell_type": "code",
   "execution_count": 136,
   "id": "c2479c03-eba3-4de3-be70-60479f58e17a",
   "metadata": {},
   "outputs": [],
   "source": [
    "xml_folder=\"ExportCovid\"\n",
    "files = list(pathlib.Path(xml_folder).glob('*.xml'))\n",
    "ecg_files_path = 'ecgs_covid/'\n",
    "ecgs = []\n",
    "\n",
    "for file in files:\n",
    "    ecg = get_data_from_xml(file, ecg_files_path)\n",
    "    ecgs.append(ecg)"
   ]
  },
  {
   "cell_type": "code",
   "execution_count": null,
   "id": "7673edcc-7a01-4ecb-a3e5-75ab3fdf77a5",
   "metadata": {},
   "outputs": [],
   "source": []
  }
 ],
 "metadata": {
  "interpreter": {
   "hash": "9b94c5e5e1df461179c9d83ef832f4aa86b164f153b3b7ed6932a28eaf66361b"
  },
  "kernelspec": {
   "display_name": "py39m1_1",
   "language": "python",
   "name": "python3"
  },
  "language_info": {
   "codemirror_mode": {
    "name": "ipython",
    "version": 3
   },
   "file_extension": ".py",
   "mimetype": "text/x-python",
   "name": "python",
   "nbconvert_exporter": "python",
   "pygments_lexer": "ipython3",
   "version": "3.10.4"
  },
  "toc-autonumbering": false,
  "toc-showcode": false,
  "toc-showmarkdowntxt": false
 },
 "nbformat": 4,
 "nbformat_minor": 5
}
