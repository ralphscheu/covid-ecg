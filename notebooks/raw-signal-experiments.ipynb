{
 "cells": [
  {
   "cell_type": "code",
   "execution_count": 5,
   "metadata": {},
   "outputs": [
    {
     "ename": "TypeError",
     "evalue": "join() argument must be str, bytes, or os.PathLike object, not 'Series'",
     "output_type": "error",
     "traceback": [
      "\u001b[0;31m---------------------------------------------------------------------------\u001b[0m",
      "\u001b[0;31mTypeError\u001b[0m                                 Traceback (most recent call last)",
      "\u001b[1;32m/home/scheralph/source/covid-ecg/notebooks/raw-signal-experiments.ipynb Cell 1'\u001b[0m in \u001b[0;36m<cell line: 16>\u001b[0;34m()\u001b[0m\n\u001b[1;32m      <a href='vscode-notebook-cell:/home/scheralph/source/covid-ecg/notebooks/raw-signal-experiments.ipynb#ch0000010?line=7'>8</a>\u001b[0m torch\u001b[39m.\u001b[39mmanual_seed(\u001b[39m0\u001b[39m)\n\u001b[1;32m     <a href='vscode-notebook-cell:/home/scheralph/source/covid-ecg/notebooks/raw-signal-experiments.ipynb#ch0000010?line=10'>11</a>\u001b[0m dataset \u001b[39m=\u001b[39m EcgDataset(\n\u001b[1;32m     <a href='vscode-notebook-cell:/home/scheralph/source/covid-ecg/notebooks/raw-signal-experiments.ipynb#ch0000010?line=11'>12</a>\u001b[0m     runs_info_file\u001b[39m=\u001b[39m\u001b[39m'\u001b[39m\u001b[39m../data/interim/ecg_runs.csv\u001b[39m\u001b[39m'\u001b[39m, \n\u001b[1;32m     <a href='vscode-notebook-cell:/home/scheralph/source/covid-ecg/notebooks/raw-signal-experiments.ipynb#ch0000010?line=12'>13</a>\u001b[0m     signals_dir\u001b[39m=\u001b[39m\u001b[39m'\u001b[39m\u001b[39m../data/interim/ecg_runs\u001b[39m\u001b[39m'\u001b[39m, \n\u001b[1;32m     <a href='vscode-notebook-cell:/home/scheralph/source/covid-ecg/notebooks/raw-signal-experiments.ipynb#ch0000010?line=13'>14</a>\u001b[0m     flatten_signal\u001b[39m=\u001b[39m\u001b[39mTrue\u001b[39;00m)\n\u001b[0;32m---> <a href='vscode-notebook-cell:/home/scheralph/source/covid-ecg/notebooks/raw-signal-experiments.ipynb#ch0000010?line=15'>16</a>\u001b[0m dataset[:,:]\n",
      "File \u001b[0;32m~/source/covid-ecg/covidecg/data/ecg_dataset.py:38\u001b[0m, in \u001b[0;36mEcgDataset.__getitem__\u001b[0;34m(self, index)\u001b[0m\n\u001b[1;32m     <a href='file:///home/scheralph/source/covid-ecg/covidecg/data/ecg_dataset.py?line=36'>37</a>\u001b[0m \u001b[39mdef\u001b[39;00m \u001b[39m__getitem__\u001b[39m(\u001b[39mself\u001b[39m, index):\n\u001b[0;32m---> <a href='file:///home/scheralph/source/covid-ecg/covidecg/data/ecg_dataset.py?line=37'>38</a>\u001b[0m     signal_path \u001b[39m=\u001b[39m os\u001b[39m.\u001b[39;49mpath\u001b[39m.\u001b[39;49mjoin(\u001b[39mself\u001b[39;49m\u001b[39m.\u001b[39;49msignals_dir, \u001b[39mself\u001b[39;49m\u001b[39m.\u001b[39;49mruns_info\u001b[39m.\u001b[39;49miloc[index][\u001b[39m'\u001b[39;49m\u001b[39mrun_id\u001b[39;49m\u001b[39m'\u001b[39;49m] \u001b[39m+\u001b[39;49m \u001b[39m'\u001b[39;49m\u001b[39m.txt\u001b[39;49m\u001b[39m'\u001b[39;49m)\n\u001b[1;32m     <a href='file:///home/scheralph/source/covid-ecg/covidecg/data/ecg_dataset.py?line=38'>39</a>\u001b[0m     signal \u001b[39m=\u001b[39m covidecg\u001b[39m.\u001b[39mdata\u001b[39m.\u001b[39mutils\u001b[39m.\u001b[39mload_run_signal(signal_path)\n\u001b[1;32m     <a href='file:///home/scheralph/source/covid-ecg/covidecg/data/ecg_dataset.py?line=40'>41</a>\u001b[0m     \u001b[39mif\u001b[39;00m \u001b[39mself\u001b[39m\u001b[39m.\u001b[39mlead_index \u001b[39mis\u001b[39;00m \u001b[39mnot\u001b[39;00m \u001b[39mNone\u001b[39;00m:\n",
      "File \u001b[0;32m/usr/lib/python3.10/posixpath.py:90\u001b[0m, in \u001b[0;36mjoin\u001b[0;34m(a, *p)\u001b[0m\n\u001b[1;32m     <a href='file:///usr/lib/python3.10/posixpath.py?line=87'>88</a>\u001b[0m             path \u001b[39m+\u001b[39m\u001b[39m=\u001b[39m sep \u001b[39m+\u001b[39m b\n\u001b[1;32m     <a href='file:///usr/lib/python3.10/posixpath.py?line=88'>89</a>\u001b[0m \u001b[39mexcept\u001b[39;00m (\u001b[39mTypeError\u001b[39;00m, \u001b[39mAttributeError\u001b[39;00m, \u001b[39mBytesWarning\u001b[39;00m):\n\u001b[0;32m---> <a href='file:///usr/lib/python3.10/posixpath.py?line=89'>90</a>\u001b[0m     genericpath\u001b[39m.\u001b[39;49m_check_arg_types(\u001b[39m'\u001b[39;49m\u001b[39mjoin\u001b[39;49m\u001b[39m'\u001b[39;49m, a, \u001b[39m*\u001b[39;49mp)\n\u001b[1;32m     <a href='file:///usr/lib/python3.10/posixpath.py?line=90'>91</a>\u001b[0m     \u001b[39mraise\u001b[39;00m\n\u001b[1;32m     <a href='file:///usr/lib/python3.10/posixpath.py?line=91'>92</a>\u001b[0m \u001b[39mreturn\u001b[39;00m path\n",
      "File \u001b[0;32m/usr/lib/python3.10/genericpath.py:152\u001b[0m, in \u001b[0;36m_check_arg_types\u001b[0;34m(funcname, *args)\u001b[0m\n\u001b[1;32m    <a href='file:///usr/lib/python3.10/genericpath.py?line=149'>150</a>\u001b[0m         hasbytes \u001b[39m=\u001b[39m \u001b[39mTrue\u001b[39;00m\n\u001b[1;32m    <a href='file:///usr/lib/python3.10/genericpath.py?line=150'>151</a>\u001b[0m     \u001b[39melse\u001b[39;00m:\n\u001b[0;32m--> <a href='file:///usr/lib/python3.10/genericpath.py?line=151'>152</a>\u001b[0m         \u001b[39mraise\u001b[39;00m \u001b[39mTypeError\u001b[39;00m(\u001b[39mf\u001b[39m\u001b[39m'\u001b[39m\u001b[39m{\u001b[39;00mfuncname\u001b[39m}\u001b[39;00m\u001b[39m() argument must be str, bytes, or \u001b[39m\u001b[39m'\u001b[39m\n\u001b[1;32m    <a href='file:///usr/lib/python3.10/genericpath.py?line=152'>153</a>\u001b[0m                         \u001b[39mf\u001b[39m\u001b[39m'\u001b[39m\u001b[39mos.PathLike object, not \u001b[39m\u001b[39m{\u001b[39;00ms\u001b[39m.\u001b[39m\u001b[39m__class__\u001b[39m\u001b[39m.\u001b[39m\u001b[39m__name__\u001b[39m\u001b[39m!r}\u001b[39;00m\u001b[39m'\u001b[39m) \u001b[39mfrom\u001b[39;00m \u001b[39mNone\u001b[39m\n\u001b[1;32m    <a href='file:///usr/lib/python3.10/genericpath.py?line=153'>154</a>\u001b[0m \u001b[39mif\u001b[39;00m hasstr \u001b[39mand\u001b[39;00m hasbytes:\n\u001b[1;32m    <a href='file:///usr/lib/python3.10/genericpath.py?line=154'>155</a>\u001b[0m     \u001b[39mraise\u001b[39;00m \u001b[39mTypeError\u001b[39;00m(\u001b[39m\"\u001b[39m\u001b[39mCan\u001b[39m\u001b[39m'\u001b[39m\u001b[39mt mix strings and bytes in path components\u001b[39m\u001b[39m\"\u001b[39m) \u001b[39mfrom\u001b[39;00m \u001b[39mNone\u001b[39m\n",
      "\u001b[0;31mTypeError\u001b[0m: join() argument must be str, bytes, or os.PathLike object, not 'Series'"
     ]
    }
   ],
   "source": [
    "from torch.utils.data import DataLoader\n",
    "from covidecg.data.ecg_dataset import EcgDataset\n",
    "import matplotlib.pyplot as plt\n",
    "import torch\n",
    "import sklearn\n",
    "from sklearn.model_selection import train_test_split\n",
    "\n",
    "torch.manual_seed(0)\n",
    "\n",
    "\n",
    "dataset = EcgDataset(\n",
    "    runs_info_file='../data/interim/ecg_runs.csv', \n",
    "    signals_dir='../data/interim/ecg_runs', \n",
    "    flatten_signal=True)\n",
    "\n",
    "dataset["
   ]
  },
  {
   "cell_type": "code",
   "execution_count": null,
   "metadata": {},
   "outputs": [],
   "source": []
  },
  {
   "cell_type": "code",
   "execution_count": null,
   "metadata": {},
   "outputs": [],
   "source": []
  },
  {
   "cell_type": "code",
   "execution_count": null,
   "metadata": {},
   "outputs": [],
   "source": []
  },
  {
   "cell_type": "code",
   "execution_count": null,
   "metadata": {},
   "outputs": [],
   "source": []
  },
  {
   "cell_type": "code",
   "execution_count": null,
   "metadata": {},
   "outputs": [],
   "source": [
    "from torch.utils.data import DataLoader\n",
    "from covidecg.data.ecg_dataset import EcgDataset\n",
    "import matplotlib.pyplot as plt\n",
    "import torch\n",
    "import sklearn\n",
    "from sklearn.model_selection import train_test_split\n",
    "\n",
    "torch.manual_seed(0)\n",
    "\n",
    "\n",
    "dataset = EcgDataset(\n",
    "    runs_info_file='../data/interim/ecg_runs.csv', \n",
    "    signals_dir='../data/interim/ecg_runs', \n",
    "    flatten_signal=True)\n",
    "\n",
    "# create train and test dataset using hold-out approach\n",
    "train_indices, test_indices = train_test_split(list(range(len(dataset))), test_size=0.2, stratify=dataset.labels)\n",
    "\n",
    "train_dataset = torch.utils.data.Subset(dataset, train_indices)\n",
    "test_dataset = torch.utils.data.Subset(dataset, test_indices)\n",
    "\n",
    "train_dataloader = DataLoader(train_dataset, batch_size=len(train_dataset), shuffle=True)\n",
    "test_dataloader = DataLoader(test_dataset, batch_size=len(test_dataset), shuffle=True)\n",
    "\n",
    "X_train, y_train = next(iter(train_dataloader))\n",
    "X_test, y_test = next(iter(test_dataloader))"
   ]
  },
  {
   "cell_type": "markdown",
   "metadata": {},
   "source": [
    "### SVC linear"
   ]
  },
  {
   "cell_type": "code",
   "execution_count": null,
   "metadata": {},
   "outputs": [],
   "source": [
    "model = sklearn.svm.SVC(kernel=\"linear\", class_weight='balanced')\n",
    "\n",
    "# train model\n",
    "model.fit(X_train, y_train)\n",
    "\n",
    "y_pred = model.predict(X_test)"
   ]
  },
  {
   "cell_type": "code",
   "execution_count": null,
   "metadata": {},
   "outputs": [
    {
     "name": "stdout",
     "output_type": "stream",
     "text": [
      "confusion matrix\n",
      "[[0.27419355 0.72580645]\n",
      " [0.21084337 0.78915663]]\n",
      "balanced accuracy: 0.5316750874465604\n",
      "f1 score: 0.7660818713450294\n",
      "roc_auc: 0.5316750874465604\n",
      "precision: 0.7443181818181818\n",
      "recall: 0.7891566265060241\n"
     ]
    },
    {
     "data": {
      "image/png": "[encoded data removed]",
      "text/plain": [
       "<Figure size 432x288 with 1 Axes>"
      ]
     },
     "metadata": {
      "needs_background": "light"
     },
     "output_type": "display_data"
    }
   ],
   "source": [
    "from sklearn.metrics import confusion_matrix, balanced_accuracy_score, f1_score, precision_score, recall_score, roc_auc_score, RocCurveDisplay\n",
    "\n",
    "# evaluate model\n",
    "print(\"confusion matrix\")\n",
    "print(confusion_matrix(y_test, y_pred, normalize='true'))\n",
    "\n",
    "print(\"balanced accuracy:\", balanced_accuracy_score(y_test,y_pred))\n",
    "print(\"f1 score:\", f1_score(y_test,y_pred))\n",
    "print(\"roc_auc:\", roc_auc_score(y_test, y_pred))\n",
    "print(\"precision:\", precision_score(y_test,y_pred))\n",
    "print(\"recall:\", recall_score(y_test,y_pred))\n",
    "\n",
    "roc_curve = RocCurveDisplay.from_estimator(model, X_test, y_test)"
   ]
  },
  {
   "cell_type": "markdown",
   "metadata": {},
   "source": [
    "### SVC rbf"
   ]
  },
  {
   "cell_type": "code",
   "execution_count": null,
   "metadata": {},
   "outputs": [],
   "source": [
    "model = sklearn.svm.SVC(kernel=\"rbf\", class_weight='balanced')\n",
    "\n",
    "# train model\n",
    "model.fit(X_train, y_train)\n",
    "\n",
    "y_pred = model.predict(X_test)"
   ]
  },
  {
   "cell_type": "code",
   "execution_count": null,
   "metadata": {},
   "outputs": [
    {
     "name": "stdout",
     "output_type": "stream",
     "text": [
      "confusion matrix\n",
      "[[0.43548387 0.56451613]\n",
      " [0.28915663 0.71084337]]\n",
      "balanced accuracy: 0.5731636222308589\n",
      "f1 score: 0.7398119122257053\n",
      "roc_auc: 0.5731636222308588\n",
      "precision: 0.7712418300653595\n",
      "recall: 0.7108433734939759\n"
     ]
    },
    {
     "data": {
      "image/png": "[encoded data removed]",
      "text/plain": [
       "<Figure size 432x288 with 1 Axes>"
      ]
     },
     "metadata": {
      "needs_background": "light"
     },
     "output_type": "display_data"
    }
   ],
   "source": [
    "from sklearn.metrics import confusion_matrix, balanced_accuracy_score, f1_score, precision_score, recall_score, roc_auc_score, RocCurveDisplay\n",
    "\n",
    "# evaluate model\n",
    "print(\"confusion matrix\")\n",
    "print(confusion_matrix(y_test, y_pred, normalize='true'))\n",
    "\n",
    "print(\"balanced accuracy:\", balanced_accuracy_score(y_test,y_pred))\n",
    "print(\"f1 score:\", f1_score(y_test,y_pred))\n",
    "print(\"roc_auc:\", roc_auc_score(y_test, y_pred))\n",
    "print(\"precision:\", precision_score(y_test,y_pred))\n",
    "print(\"recall:\", recall_score(y_test,y_pred))\n",
    "\n",
    "roc_curve = RocCurveDisplay.from_estimator(model, X_test, y_test)"
   ]
  },
  {
   "cell_type": "markdown",
   "metadata": {},
   "source": [
    "### Random Forest"
   ]
  },
  {
   "cell_type": "code",
   "execution_count": null,
   "metadata": {},
   "outputs": [],
   "source": [
    "from sklearn.ensemble import RandomForestClassifier\n",
    "\n",
    "model = RandomForestClassifier()\n",
    "\n",
    "# train model\n",
    "model.fit(X_train, y_train)\n",
    "\n",
    "y_pred = model.predict(X_test)"
   ]
  },
  {
   "cell_type": "code",
   "execution_count": null,
   "metadata": {},
   "outputs": [
    {
     "name": "stdout",
     "output_type": "stream",
     "text": [
      "confusion matrix\n",
      "[[0.09677419 0.90322581]\n",
      " [0.07831325 0.92168675]]\n",
      "balanced accuracy: 0.5092304702681695\n",
      "f1 score: 0.8160000000000001\n",
      "roc_auc: 0.5092304702681695\n",
      "precision: 0.7320574162679426\n",
      "recall: 0.9216867469879518\n"
     ]
    },
    {
     "data": {
      "image/png": "[encoded data removed]",
      "text/plain": [
       "<Figure size 432x288 with 1 Axes>"
      ]
     },
     "metadata": {
      "needs_background": "light"
     },
     "output_type": "display_data"
    }
   ],
   "source": [
    "from sklearn.metrics import confusion_matrix, balanced_accuracy_score, f1_score, precision_score, recall_score, roc_auc_score, RocCurveDisplay\n",
    "\n",
    "# evaluate model)\n",
    "print(\"confusion matrix\")\n",
    "print(confusion_matrix(y_test, y_pred, normalize='true'))\n",
    "\n",
    "print(\"balanced accuracy:\", balanced_accuracy_score(y_test,y_pred))\n",
    "print(\"f1 score:\", f1_score(y_test,y_pred))\n",
    "print(\"roc_auc:\", roc_auc_score(y_test, y_pred))\n",
    "print(\"precision:\", precision_score(y_test,y_pred))\n",
    "print(\"recall:\", recall_score(y_test,y_pred))\n",
    "\n",
    "roc_curve = RocCurveDisplay.from_estimator(model, X_test, y_test)"
   ]
  }
 ],
 "metadata": {
  "interpreter": {
   "hash": "9b94c5e5e1df461179c9d83ef832f4aa86b164f153b3b7ed6932a28eaf66361b"
  },
  "kernelspec": {
   "display_name": "Python 3.10.4 ('.venv': venv)",
   "language": "python",
   "name": "python3"
  },
  "language_info": {
   "codemirror_mode": {
    "name": "ipython",
    "version": 3
   },
   "file_extension": ".py",
   "mimetype": "text/x-python",
   "name": "python",
   "nbconvert_exporter": "python",
   "pygments_lexer": "ipython3",
   "version": "3.10.4"
  },
  "orig_nbformat": 4
 },
 "nbformat": 4,
 "nbformat_minor": 2
}
