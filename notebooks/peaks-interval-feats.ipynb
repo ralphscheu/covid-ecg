{
 "cells": [
  {
   "cell_type": "code",
   "execution_count": 1,
   "metadata": {},
   "outputs": [],
   "source": [
    "# # Locate P,Q,S,T wave peaks and on/offset\n",
    "# _, waves_peak = nk.ecg_delineate(signals[\"ECG_Clean\"], info['ECG_R_Peaks'], sampling_rate=500, method=\"dwt\", show=True)\n",
    "# # Visualize the T-peaks, P-peaks, Q-peaks and S-peaks\n",
    "# plot = nk.events_plot([waves_peak['ECG_T_Peaks'],\n",
    "#                        waves_peak['ECG_P_Peaks'],\n",
    "#                        waves_peak['ECG_Q_Peaks'],\n",
    "#                        waves_peak['ECG_S_Peaks']], signals[\"ECG_Clean\"])\n",
    "\n",
    "# # Zooming into the first 3 R-peaks, with focus on T_peaks, P-peaks, Q-peaks and S-peaks\n",
    "# plot = nk.events_plot([waves_peak['ECG_T_Peaks'][:5],\n",
    "#                        waves_peak['ECG_P_Peaks'][:5],\n",
    "#                        info['ECG_R_Peaks'][:5],\n",
    "#                        waves_peak['ECG_Q_Peaks'][:5],\n",
    "#                        waves_peak['ECG_S_Peaks'][:5]], signals[\"ECG_Clean\"][:2500])\n",
    "\n",
    "# # def convert(o):\n",
    "# #     if isinstance(o, np.int64): return int(o)  \n",
    "# #     raise TypeError\n",
    "\n",
    "# # import json\n",
    "# # with open('peaks.json', 'w') as f:\n",
    "# #     json.dump(waves_peak, f, sort_keys=True, indent=4, default=convert)\n",
    "\n",
    "# segments = list( nk.ecg_segment(signals['ECG_Clean'], rpeaks=None, sampling_rate=500, show=True).values() )"
   ]
  },
  {
   "cell_type": "code",
   "execution_count": 2,
   "metadata": {},
   "outputs": [
    {
     "name": "stdout",
     "output_type": "stream",
     "text": [
      "(12, 5000)\n",
      "(1, 12, 5000)\n",
      "dict_keys(['ECG_P_Peaks', 'ECG_P_Onsets', 'ECG_P_Offsets', 'ECG_Q_Peaks', 'ECG_R_Onsets', 'ECG_R_Offsets', 'ECG_S_Peaks', 'ECG_T_Peaks', 'ECG_T_Onsets', 'ECG_T_Offsets'])\n",
      "[]\n",
      "(1, 12)\n",
      "[[ 616.79419604   31.0522467   -90.18686279    9.68332426 -156.97129939\n",
      "    11.0502122   161.27466289   21.57108622  422.5          13.22308587\n",
      "            nan           nan]]\n"
     ]
    },
    {
     "name": "stderr",
     "output_type": "stream",
     "text": [
      "/mnt/md0/user/scheuererra68323/covid-ecg/covidecg/features/utils.py:79: RuntimeWarning: Mean of empty slice.\n",
      "  interval_feats.append(pr_intervals.mean())\n",
      "/mnt/md0/user/scheuererra68323/covid-ecg/.venv/lib/python3.8/site-packages/numpy/core/_methods.py:189: RuntimeWarning: invalid value encountered in double_scalars\n",
      "  ret = ret.dtype.type(ret / rcount)\n",
      "/mnt/md0/user/scheuererra68323/covid-ecg/.venv/lib/python3.8/site-packages/numpy/core/_methods.py:264: RuntimeWarning: Degrees of freedom <= 0 for slice\n",
      "  ret = _var(a, axis=axis, dtype=dtype, out=out, ddof=ddof,\n",
      "/mnt/md0/user/scheuererra68323/covid-ecg/.venv/lib/python3.8/site-packages/numpy/core/_methods.py:222: RuntimeWarning: invalid value encountered in true_divide\n",
      "  arrmean = um.true_divide(arrmean, div, out=arrmean, casting='unsafe',\n",
      "/mnt/md0/user/scheuererra68323/covid-ecg/.venv/lib/python3.8/site-packages/numpy/core/_methods.py:256: RuntimeWarning: invalid value encountered in double_scalars\n",
      "  ret = ret.dtype.type(ret / rcount)\n"
     ]
    }
   ],
   "source": [
    "import numpy as np\n",
    "import sklearn.pipeline\n",
    "import sklearn\n",
    "import covidecg.data.utils as data_utils\n",
    "import covidecg.features.utils as features_utils\n",
    "import matplotlib.pyplot as plt\n",
    "\n",
    "raw_signal = data_utils.load_signal('/mnt/md0/user/scheuererra68323/covid-ecg/data/interim/ecg_runs_covid/covid12555_run20210427153758.148.txt')\n",
    "print(raw_signal.shape)\n",
    "raw_signal = raw_signal[np.newaxis, :, :]\n",
    "print(raw_signal.shape)\n",
    "\n",
    "pipe = sklearn.pipeline.make_pipeline(\n",
    "    data_utils.EcgLeadSelector('MDC_ECG_LEAD_II'), \n",
    "    data_utils.EcgSignalCleaner(),\n",
    "    sklearn.pipeline.make_union(\n",
    "        features_utils.EcgPeaksFeatsExtractor(),\n",
    "        features_utils.EcgIntervalFeatsExtractor()\n",
    "        )\n",
    "    )\n",
    "\n",
    "# plt.figure(figsize=(10, 4))\n",
    "# plt.plot(raw_signal[0,1], c='black', alpha=0.25)\n",
    "# plt.plot(cleaned_signal[0], c='tab:red')\n",
    "# plt.show()\n",
    "\n",
    "\n",
    "feats = pipe.fit_transform(raw_signal)\n",
    "print(feats.shape)\n",
    "print(feats)\n"
   ]
  }
 ],
 "metadata": {
  "interpreter": {
   "hash": "58944ef3c9521f944c571869813b8a0eab109b60409d663c43d5f4fedff152be"
  },
  "kernelspec": {
   "display_name": "Python 3.8.2 ('.venv': venv)",
   "language": "python",
   "name": "python3"
  },
  "language_info": {
   "codemirror_mode": {
    "name": "ipython",
    "version": 3
   },
   "file_extension": ".py",
   "mimetype": "text/x-python",
   "name": "python",
   "nbconvert_exporter": "python",
   "pygments_lexer": "ipython3",
   "version": "3.8.2"
  },
  "orig_nbformat": 4
 },
 "nbformat": 4,
 "nbformat_minor": 2
}
