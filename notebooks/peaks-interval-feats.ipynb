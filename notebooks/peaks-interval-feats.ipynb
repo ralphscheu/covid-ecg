{
 "cells": [
  {
   "cell_type": "code",
   "execution_count": null,
   "metadata": {},
   "outputs": [],
   "source": [
    "# Locate P,Q,S,T wave peaks and on/offset\n",
    "_, waves_peak = nk.ecg_delineate(signals[\"ECG_Clean\"], info['ECG_R_Peaks'], sampling_rate=500, method=\"dwt\", show=True)\n",
    "# Visualize the T-peaks, P-peaks, Q-peaks and S-peaks\n",
    "plot = nk.events_plot([waves_peak['ECG_T_Peaks'],\n",
    "                       waves_peak['ECG_P_Peaks'],\n",
    "                       waves_peak['ECG_Q_Peaks'],\n",
    "                       waves_peak['ECG_S_Peaks']], signals[\"ECG_Clean\"])\n",
    "\n",
    "# Zooming into the first 3 R-peaks, with focus on T_peaks, P-peaks, Q-peaks and S-peaks\n",
    "plot = nk.events_plot([waves_peak['ECG_T_Peaks'][:5],\n",
    "                       waves_peak['ECG_P_Peaks'][:5],\n",
    "                       info['ECG_R_Peaks'][:5],\n",
    "                       waves_peak['ECG_Q_Peaks'][:5],\n",
    "                       waves_peak['ECG_S_Peaks'][:5]], signals[\"ECG_Clean\"][:2500])\n",
    "\n",
    "# def convert(o):\n",
    "#     if isinstance(o, np.int64): return int(o)  \n",
    "#     raise TypeError\n",
    "\n",
    "# import json\n",
    "# with open('peaks.json', 'w') as f:\n",
    "#     json.dump(waves_peak, f, sort_keys=True, indent=4, default=convert)\n",
    "\n",
    "segments = list( nk.ecg_segment(signals['ECG_Clean'], rpeaks=None, sampling_rate=500, show=True).values() )"
   ]
  }
 ],
 "metadata": {
  "language_info": {
   "name": "python"
  },
  "orig_nbformat": 4
 },
 "nbformat": 4,
 "nbformat_minor": 2
}
