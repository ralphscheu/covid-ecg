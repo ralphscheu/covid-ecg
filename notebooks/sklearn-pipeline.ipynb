{
 "cells": [
  {
   "cell_type": "code",
   "execution_count": 3,
   "metadata": {},
   "outputs": [],
   "source": [
    "import numpy as np\n",
    "import pandas as pd\n",
    "import covidecg.data.utils\n",
    "import sklearn.pipeline\n",
    "import sklearn.preprocessing\n",
    "from sklearn.model_selection import train_test_split\n",
    "import covidecg.models.mlp_models\n",
    "from skorch import NeuralNetClassifier\n",
    "import torch\n",
    "import torch.nn as nn\n",
    "from sklearn.utils.class_weight import compute_class_weight\n",
    "from skorch.callbacks import EpochScoring, EarlyStopping\n",
    "\n",
    "\n",
    "X, y = covidecg.data.utils.load_runs('../data/interim/ecg_runs.csv', '../data/interim/ecg_runs')"
   ]
  },
  {
   "cell_type": "code",
   "execution_count": 4,
   "metadata": {},
   "outputs": [],
   "source": [
    "# import sklearn.svm\n",
    "# import sklearn.metrics\n",
    "# import covidecg.models.utils\n",
    "\n",
    "# # models to compare\n",
    "# classifiers = [\n",
    "#     ('SVM (linear kernel)', sklearn.svm.SVC(kernel='linear')),\n",
    "#     ('SVM (polyn. kernel)', sklearn.svm.SVC(kernel='poly')),\n",
    "# ]\n",
    "\n",
    "# fitted_classifiers = []\n",
    "# for clf_name, clf in classifiers:\n",
    "#     print(f\"Fitting {clf_name}\")\n",
    "#     exp_pipe = sklearn.pipeline.make_pipeline(dataprep_pipe, clf)\n",
    "#     exp_pipe.fit(X_train, y_train)\n",
    "#     y_pred = exp_pipe.predict(X_test)\n",
    "#     print(\"Balanced accuracy:\", sklearn.metrics.balanced_accuracy_score(y_test, y_pred), '\\n')\n",
    "#     print(\"Confusion matrix:\")\n",
    "#     print(sklearn.metrics.confusion_matrix(y_test, y_pred), '\\n')"
   ]
  },
  {
   "cell_type": "code",
   "execution_count": 29,
   "metadata": {},
   "outputs": [
    {
     "name": "stdout",
     "output_type": "stream",
     "text": [
      "  epoch    roc_auc    train_loss    valid_acc    valid_loss     dur\n",
      "-------  ---------  ------------  -----------  ------------  ------\n",
      "      1     \u001b[36m0.3949\u001b[0m        \u001b[32m0.7801\u001b[0m       \u001b[35m0.2763\u001b[0m        \u001b[31m0.8856\u001b[0m  9.6339\n",
      "      2     \u001b[36m0.5307\u001b[0m        \u001b[32m0.7069\u001b[0m       \u001b[35m0.5702\u001b[0m        \u001b[31m0.6937\u001b[0m  8.1714\n",
      "      3     0.5217        \u001b[32m0.5937\u001b[0m       0.5614        0.7102  8.1240\n",
      "      4     \u001b[36m0.5570\u001b[0m        \u001b[32m0.4877\u001b[0m       \u001b[35m0.6184\u001b[0m        \u001b[31m0.6663\u001b[0m  8.1414\n",
      "      5     \u001b[36m0.5683\u001b[0m        \u001b[32m0.4305\u001b[0m       \u001b[35m0.6447\u001b[0m        \u001b[31m0.6556\u001b[0m  7.9483\n",
      "      6     0.5549        \u001b[32m0.3998\u001b[0m       0.6316        0.6651  7.8756\n",
      "      7     0.5607        \u001b[32m0.3854\u001b[0m       \u001b[35m0.6667\u001b[0m        0.6581  8.7245\n",
      "      8     0.5663        \u001b[32m0.3754\u001b[0m       \u001b[35m0.6974\u001b[0m        \u001b[31m0.6523\u001b[0m  8.4025\n",
      "      9     0.5624        \u001b[32m0.3697\u001b[0m       0.6711        0.6543  8.2302\n",
      "     10     \u001b[36m0.5707\u001b[0m        \u001b[32m0.3655\u001b[0m       \u001b[35m0.7105\u001b[0m        \u001b[31m0.6506\u001b[0m  7.7953\n",
      "     11     0.5701        \u001b[32m0.3618\u001b[0m       0.7105        0.6511  7.7433\n",
      "     12     \u001b[36m0.5729\u001b[0m        \u001b[32m0.3597\u001b[0m       0.7061        0.6506  8.0154\n",
      "     13     0.5673        \u001b[32m0.3578\u001b[0m       0.6974        0.6531  8.1939\n",
      "     14     0.5688        \u001b[32m0.3558\u001b[0m       0.7018        0.6520  7.5463\n",
      "Stopping since valid_loss has not improved in the last 5 epochs.\n"
     ]
    },
    {
     "data": {
      "text/plain": [
       "Pipeline(steps=[('flatten',\n",
       "                 FunctionTransformer(func=<function <lambda> at 0x7f80681224d0>)),\n",
       "                ('clf',\n",
       "                 <class 'skorch.classifier.NeuralNetClassifier'>[initialized](\n",
       "  module_=MLP(\n",
       "    (layers): Sequential(\n",
       "      (0): Flatten(start_dim=1, end_dim=-1)\n",
       "      (1): Linear(in_features=60000, out_features=1000, bias=True)\n",
       "      (2): ReLU()\n",
       "      (3): Linear(in_features=1000, out_features=1000, bias=True)\n",
       "      (4): ReLU()\n",
       "      (5): Linear(in_features=1000, out_features=1000, bias=True)\n",
       "      (6): ReLU()\n",
       "      (7): Linear(in_features=1000, out_features=1000, bias=True)\n",
       "      (8): ReLU()\n",
       "      (9): Linear(in_features=1000, out_features=1000, bias=True)\n",
       "      (10): ReLU()\n",
       "      (11): Linear(in_features=1000, out_features=2, bias=True)\n",
       "      (12): Softmax(dim=-1)\n",
       "    )\n",
       "  ),\n",
       "))])"
      ]
     },
     "execution_count": 29,
     "metadata": {},
     "output_type": "execute_result"
    }
   ],
   "source": [
    "X = X.astype(np.float32)  # TODO move to load_runs()\n",
    "\n",
    "# pre-process targets\n",
    "label_encoder = sklearn.preprocessing.LabelEncoder()\n",
    "y_encoded = label_encoder.fit_transform(y)\n",
    "y_encoded = y_encoded.astype(np.int64) # TODO move to load_runs()\n",
    "\n",
    "# compute class weights for CrossEntropyLoss to mitigate imbalanced classes\n",
    "class_weights = compute_class_weight('balanced', classes=np.unique(y_encoded), y=y_encoded)\n",
    "class_weights = torch.tensor(class_weights, dtype=torch.float)\n",
    "\n",
    "clf = NeuralNetClassifier(\n",
    "    module=covidecg.models.mlp_models.MLP,\n",
    "    module__input_shape=X[0].size,\n",
    "    module__hidden_size=1000,\n",
    "    criterion=nn.CrossEntropyLoss,\n",
    "    criterion__weight=class_weights,\n",
    "    batch_size=32,\n",
    "    lr=1e-4,\n",
    "    optimizer__momentum=0.9,\n",
    "    max_epochs=20,\n",
    "    iterator_train__shuffle=True,  # Shuffle training data on each epoch\n",
    "    callbacks=[\n",
    "        # include additional scores into history\n",
    "        EpochScoring(scoring='roc_auc', lower_is_better=False), \n",
    "        EarlyStopping(patience=3)\n",
    "        ]\n",
    ")\n",
    "\n",
    "pipe = sklearn.pipeline.Pipeline([\n",
    "    ('flatten_leads', sklearn.preprocessing.FunctionTransformer(func=lambda x: x.reshape(x.shape[0], -1))),\n",
    "    ('clf', clf)\n",
    "])\n",
    "# print(pipe)\n",
    "\n",
    "pipe.fit(X=X, y=y_encoded)"
   ]
  },
  {
   "cell_type": "code",
   "execution_count": 41,
   "metadata": {},
   "outputs": [
    {
     "data": {
      "image/png": "[encoded data removed]",
      "text/plain": [
       "<Figure size 432x288 with 1 Axes>"
      ]
     },
     "metadata": {
      "needs_background": "light"
     },
     "output_type": "display_data"
    }
   ],
   "source": [
    "import matplotlib.pyplot as plt\n",
    "plt.plot(clf.history[:, 'train_loss'], label='train_loss')\n",
    "plt.plot(clf.history[:, 'valid_loss'], label='valid_loss')\n",
    "plt.legend()\n",
    "plt.show()"
   ]
  },
  {
   "cell_type": "code",
   "execution_count": null,
   "metadata": {},
   "outputs": [],
   "source": [
    "# save model to disk\n",
    "clf.save_params(f_params='model.pkl', f_optimizer='optim.pkl', f_history='history.json')"
   ]
  },
  {
   "cell_type": "code",
   "execution_count": null,
   "metadata": {},
   "outputs": [],
   "source": []
  },
  {
   "cell_type": "code",
   "execution_count": null,
   "metadata": {},
   "outputs": [],
   "source": [
    "# # import torch\n",
    "# # import torch.nn as nn\n",
    "# # from torch.utils.data import TensorDataset, DataLoader\n",
    "# # import torch.optim\n",
    "# # from tqdm.notebook import tqdm\n",
    "# import covidecg.models.mlp_models\n",
    "\n",
    "# torch.manual_seed(42)\n",
    "\n",
    "# # batch_size = 128\n",
    "# # learning_rate = 1e-5\n",
    "# # epochs = 10\n",
    "\n",
    "# net = covidecg.models.mlp_models.MLP(input_shape=X_train[0], hidden_size=1000)\n",
    "\n",
    "# loss_function = nn.CrossEntropyLoss(weight=class_weights)\n",
    "# optimizer = torch.optim.Adam(net.parameters(), lr=learning_rate)\n",
    "\n",
    "# train_ds = TensorDataset( torch.Tensor(X_train), torch.Tensor(y_train) )\n",
    "# test_ds = TensorDataset( torch.Tensor(X_test), torch.Tensor(y_test) )\n",
    "# train_loader = DataLoader(train_ds, batch_size=batch_size, shuffle=True, num_workers=1)\n",
    "\n",
    "# loss_steps = []\n",
    "\n",
    "# # training loop\n",
    "# for epoch in range(epochs):\n",
    "#     current_loss = 0.0\n",
    "\n",
    "#     for batch_i, data in enumerate(tqdm(train_loader, desc=f\"Epoch {epoch+1}\"), 0):\n",
    "#         inputs, targets = data\n",
    "#         targets = torch.Tensor(covidecg.data.utils.to_categorical(targets.numpy()))\n",
    "#         optimizer.zero_grad()\n",
    "#         outputs = net(inputs)\n",
    "#         loss = loss_function(outputs, targets)\n",
    "#         loss.backward()\n",
    "#         optimizer.step()\n",
    "\n",
    "#         loss_steps.append(loss.item())\n",
    "#         current_loss += loss.item()\n",
    "\n",
    "#         if batch_i % 3 == 0:\n",
    "#             print(f\"Epoch {epoch+1} - Batch {batch_i+1:3} - Train loss:\", loss.item())\n",
    "\n",
    "# import matplotlib.pyplot as plt\n",
    "# plt.figure()\n",
    "# plt.plot(loss_steps, label='train loss')\n",
    "# plt.legend()\n",
    "# plt.show()"
   ]
  },
  {
   "cell_type": "code",
   "execution_count": 6,
   "metadata": {},
   "outputs": [
    {
     "name": "stdout",
     "output_type": "stream",
     "text": [
      "Balanced accuracy: 0.5248655913978495\n",
      "Precision: 0.34\n",
      "Recall: 0.1827956989247312\n",
      "Confusion matrix:\n"
     ]
    },
    {
     "data": {
      "text/html": [
       "<div>\n",
       "<style scoped>\n",
       "    .dataframe tbody tr th:only-of-type {\n",
       "        vertical-align: middle;\n",
       "    }\n",
       "\n",
       "    .dataframe tbody tr th {\n",
       "        vertical-align: top;\n",
       "    }\n",
       "\n",
       "    .dataframe thead th {\n",
       "        text-align: right;\n",
       "    }\n",
       "</style>\n",
       "<table border=\"1\" class=\"dataframe\">\n",
       "  <thead>\n",
       "    <tr style=\"text-align: right;\">\n",
       "      <th></th>\n",
       "      <th>covid</th>\n",
       "      <th>ctrl</th>\n",
       "    </tr>\n",
       "  </thead>\n",
       "  <tbody>\n",
       "    <tr>\n",
       "      <th>covid</th>\n",
       "      <td>215</td>\n",
       "      <td>33</td>\n",
       "    </tr>\n",
       "    <tr>\n",
       "      <th>ctrl</th>\n",
       "      <td>76</td>\n",
       "      <td>17</td>\n",
       "    </tr>\n",
       "  </tbody>\n",
       "</table>\n",
       "</div>"
      ],
      "text/plain": [
       "       covid  ctrl\n",
       "covid    215    33\n",
       "ctrl      76    17"
      ]
     },
     "execution_count": 6,
     "metadata": {},
     "output_type": "execute_result"
    }
   ],
   "source": [
    "net.eval()\n",
    "y_pred = net(torch.Tensor(X_test))\n",
    "y_pred = y_pred.detach().numpy()\n",
    "y_pred = np.argmax(y_pred, axis=1)\n",
    "print(\"Balanced accuracy:\", sklearn.metrics.balanced_accuracy_score(y_test, y_pred))\n",
    "print(\"Precision:\", sklearn.metrics.precision_score(y_test, y_pred))\n",
    "print(\"Recall:\", sklearn.metrics.recall_score(y_test, y_pred))\n",
    "print(\"Confusion matrix:\")\n",
    "pd.DataFrame(\n",
    "    sklearn.metrics.confusion_matrix(y_test, y_pred),\n",
    "    columns=label_encoder.inverse_transform([0, 1]),\n",
    "    index=label_encoder.inverse_transform([0, 1])\n",
    ")"
   ]
  },
  {
   "cell_type": "code",
   "execution_count": null,
   "metadata": {},
   "outputs": [],
   "source": []
  }
 ],
 "metadata": {
  "interpreter": {
   "hash": "9b94c5e5e1df461179c9d83ef832f4aa86b164f153b3b7ed6932a28eaf66361b"
  },
  "kernelspec": {
   "display_name": "Python 3.10.4 ('.venv': venv)",
   "language": "python",
   "name": "python3"
  },
  "language_info": {
   "codemirror_mode": {
    "name": "ipython",
    "version": 3
   },
   "file_extension": ".py",
   "mimetype": "text/x-python",
   "name": "python",
   "nbconvert_exporter": "python",
   "pygments_lexer": "ipython3",
   "version": "3.10.4"
  },
  "orig_nbformat": 4
 },
 "nbformat": 4,
 "nbformat_minor": 2
}
